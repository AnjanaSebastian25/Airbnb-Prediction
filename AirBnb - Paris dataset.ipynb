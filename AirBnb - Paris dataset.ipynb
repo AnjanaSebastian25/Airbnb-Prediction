{
 "cells": [
  {
   "cell_type": "code",
   "execution_count": null,
   "id": "ae30409c",
   "metadata": {},
   "outputs": [],
   "source": [
    "# Original dataset downloaded from: https://www.kaggle.com/code/larsboertjes/airbnb-prices-in-european-cities/"
   ]
  },
  {
   "cell_type": "code",
   "execution_count": 1,
   "id": "aede7c55",
   "metadata": {},
   "outputs": [],
   "source": [
    "import pandas as pd \n",
    "paris_df = pd.read_csv(\"paris_weekdays.csv\")"
   ]
  },
  {
   "cell_type": "code",
   "execution_count": 2,
   "id": "3bdbcedd",
   "metadata": {},
   "outputs": [
    {
     "data": {
      "text/plain": [
       "(3130, 20)"
      ]
     },
     "execution_count": 2,
     "metadata": {},
     "output_type": "execute_result"
    }
   ],
   "source": [
    "paris_df.shape\n",
    "# Dataset of 20 variables with 3130 records"
   ]
  },
  {
   "cell_type": "code",
   "execution_count": 3,
   "id": "9f379604",
   "metadata": {},
   "outputs": [
    {
     "data": {
      "text/html": [
       "<div>\n",
       "<style scoped>\n",
       "    .dataframe tbody tr th:only-of-type {\n",
       "        vertical-align: middle;\n",
       "    }\n",
       "\n",
       "    .dataframe tbody tr th {\n",
       "        vertical-align: top;\n",
       "    }\n",
       "\n",
       "    .dataframe thead th {\n",
       "        text-align: right;\n",
       "    }\n",
       "</style>\n",
       "<table border=\"1\" class=\"dataframe\">\n",
       "  <thead>\n",
       "    <tr style=\"text-align: right;\">\n",
       "      <th></th>\n",
       "      <th>Unnamed: 0</th>\n",
       "      <th>realSum</th>\n",
       "      <th>room_type</th>\n",
       "      <th>room_shared</th>\n",
       "      <th>room_private</th>\n",
       "      <th>person_capacity</th>\n",
       "      <th>host_is_superhost</th>\n",
       "      <th>multi</th>\n",
       "      <th>biz</th>\n",
       "      <th>cleanliness_rating</th>\n",
       "      <th>guest_satisfaction_overall</th>\n",
       "      <th>bedrooms</th>\n",
       "      <th>dist</th>\n",
       "      <th>metro_dist</th>\n",
       "      <th>attr_index</th>\n",
       "      <th>attr_index_norm</th>\n",
       "      <th>rest_index</th>\n",
       "      <th>rest_index_norm</th>\n",
       "      <th>lng</th>\n",
       "      <th>lat</th>\n",
       "    </tr>\n",
       "  </thead>\n",
       "  <tbody>\n",
       "    <tr>\n",
       "      <th>0</th>\n",
       "      <td>0</td>\n",
       "      <td>296.159940</td>\n",
       "      <td>Private room</td>\n",
       "      <td>False</td>\n",
       "      <td>True</td>\n",
       "      <td>2</td>\n",
       "      <td>True</td>\n",
       "      <td>0</td>\n",
       "      <td>0</td>\n",
       "      <td>10</td>\n",
       "      <td>97</td>\n",
       "      <td>1</td>\n",
       "      <td>0.699821</td>\n",
       "      <td>0.193709</td>\n",
       "      <td>518.478947</td>\n",
       "      <td>25.239380</td>\n",
       "      <td>1218.662228</td>\n",
       "      <td>71.608028</td>\n",
       "      <td>2.35385</td>\n",
       "      <td>48.86282</td>\n",
       "    </tr>\n",
       "    <tr>\n",
       "      <th>1</th>\n",
       "      <td>1</td>\n",
       "      <td>288.237487</td>\n",
       "      <td>Private room</td>\n",
       "      <td>False</td>\n",
       "      <td>True</td>\n",
       "      <td>2</td>\n",
       "      <td>True</td>\n",
       "      <td>0</td>\n",
       "      <td>0</td>\n",
       "      <td>10</td>\n",
       "      <td>97</td>\n",
       "      <td>1</td>\n",
       "      <td>2.100005</td>\n",
       "      <td>0.107221</td>\n",
       "      <td>873.216962</td>\n",
       "      <td>42.507907</td>\n",
       "      <td>1000.543327</td>\n",
       "      <td>58.791463</td>\n",
       "      <td>2.32436</td>\n",
       "      <td>48.85902</td>\n",
       "    </tr>\n",
       "  </tbody>\n",
       "</table>\n",
       "</div>"
      ],
      "text/plain": [
       "   Unnamed: 0     realSum     room_type  room_shared  room_private  \\\n",
       "0           0  296.159940  Private room        False          True   \n",
       "1           1  288.237487  Private room        False          True   \n",
       "\n",
       "   person_capacity  host_is_superhost  multi  biz  cleanliness_rating  \\\n",
       "0                2               True      0    0                  10   \n",
       "1                2               True      0    0                  10   \n",
       "\n",
       "   guest_satisfaction_overall  bedrooms      dist  metro_dist  attr_index  \\\n",
       "0                          97         1  0.699821    0.193709  518.478947   \n",
       "1                          97         1  2.100005    0.107221  873.216962   \n",
       "\n",
       "   attr_index_norm   rest_index  rest_index_norm      lng       lat  \n",
       "0        25.239380  1218.662228        71.608028  2.35385  48.86282  \n",
       "1        42.507907  1000.543327        58.791463  2.32436  48.85902  "
      ]
     },
     "execution_count": 3,
     "metadata": {},
     "output_type": "execute_result"
    }
   ],
   "source": [
    "paris_df.head(2)"
   ]
  },
  {
   "cell_type": "markdown",
   "id": "2d186b94",
   "metadata": {},
   "source": [
    "# Cleaning and understanding the data"
   ]
  },
  {
   "cell_type": "code",
   "execution_count": 4,
   "id": "f85b046a",
   "metadata": {},
   "outputs": [],
   "source": [
    "# Eliminating the first column and two normalization columns\n",
    "# https://www.statology.org/pandas-drop-first-column/\n",
    "paris_df = paris_df.iloc[: , 1:]\n",
    "paris_df = paris_df.drop(['attr_index_norm', 'rest_index_norm'], axis='columns')"
   ]
  },
  {
   "cell_type": "code",
   "execution_count": 5,
   "id": "5e9aaff0",
   "metadata": {},
   "outputs": [],
   "source": [
    "# Renaming columns\n",
    "paris_df = paris_df.rename(columns={'realSum':'Price'})\n",
    "paris_df = paris_df.rename(columns={'dist':'city_distance'})\n",
    "paris_df = paris_df.rename(columns={'metro_dist':'metro_distance'})\n",
    "paris_df = paris_df.rename(columns={'attr_index':'attractivity_index'})\n",
    "\n"
   ]
  },
  {
   "cell_type": "code",
   "execution_count": 6,
   "id": "715ef764",
   "metadata": {},
   "outputs": [],
   "source": [
    "# Rounding values to 2 decimals, except longitude and latitude\n",
    "paris_df.Price = paris_df.Price.round(2)\n",
    "paris_df.city_distance = paris_df.city_distance.round(2)\n",
    "paris_df.metro_distance = paris_df.metro_distance.round(2)\n",
    "paris_df.attractivity_index = paris_df.attractivity_index.round(2)\n",
    "paris_df.rest_index = paris_df.rest_index.round(2)"
   ]
  },
  {
   "cell_type": "code",
   "execution_count": 7,
   "id": "1ff7b27e",
   "metadata": {},
   "outputs": [
    {
     "data": {
      "text/html": [
       "<div>\n",
       "<style scoped>\n",
       "    .dataframe tbody tr th:only-of-type {\n",
       "        vertical-align: middle;\n",
       "    }\n",
       "\n",
       "    .dataframe tbody tr th {\n",
       "        vertical-align: top;\n",
       "    }\n",
       "\n",
       "    .dataframe thead th {\n",
       "        text-align: right;\n",
       "    }\n",
       "</style>\n",
       "<table border=\"1\" class=\"dataframe\">\n",
       "  <thead>\n",
       "    <tr style=\"text-align: right;\">\n",
       "      <th></th>\n",
       "      <th>Price</th>\n",
       "      <th>room_type</th>\n",
       "      <th>room_shared</th>\n",
       "      <th>room_private</th>\n",
       "      <th>person_capacity</th>\n",
       "      <th>host_is_superhost</th>\n",
       "      <th>multi</th>\n",
       "      <th>biz</th>\n",
       "      <th>cleanliness_rating</th>\n",
       "      <th>guest_satisfaction_overall</th>\n",
       "      <th>bedrooms</th>\n",
       "      <th>city_distance</th>\n",
       "      <th>metro_distance</th>\n",
       "      <th>attractivity_index</th>\n",
       "      <th>rest_index</th>\n",
       "      <th>lng</th>\n",
       "      <th>lat</th>\n",
       "    </tr>\n",
       "  </thead>\n",
       "  <tbody>\n",
       "    <tr>\n",
       "      <th>0</th>\n",
       "      <td>296.16</td>\n",
       "      <td>Private room</td>\n",
       "      <td>False</td>\n",
       "      <td>True</td>\n",
       "      <td>2</td>\n",
       "      <td>True</td>\n",
       "      <td>0</td>\n",
       "      <td>0</td>\n",
       "      <td>10</td>\n",
       "      <td>97</td>\n",
       "      <td>1</td>\n",
       "      <td>0.7</td>\n",
       "      <td>0.19</td>\n",
       "      <td>518.48</td>\n",
       "      <td>1218.66</td>\n",
       "      <td>2.35385</td>\n",
       "      <td>48.86282</td>\n",
       "    </tr>\n",
       "    <tr>\n",
       "      <th>1</th>\n",
       "      <td>288.24</td>\n",
       "      <td>Private room</td>\n",
       "      <td>False</td>\n",
       "      <td>True</td>\n",
       "      <td>2</td>\n",
       "      <td>True</td>\n",
       "      <td>0</td>\n",
       "      <td>0</td>\n",
       "      <td>10</td>\n",
       "      <td>97</td>\n",
       "      <td>1</td>\n",
       "      <td>2.1</td>\n",
       "      <td>0.11</td>\n",
       "      <td>873.22</td>\n",
       "      <td>1000.54</td>\n",
       "      <td>2.32436</td>\n",
       "      <td>48.85902</td>\n",
       "    </tr>\n",
       "  </tbody>\n",
       "</table>\n",
       "</div>"
      ],
      "text/plain": [
       "    Price     room_type  room_shared  room_private  person_capacity  \\\n",
       "0  296.16  Private room        False          True                2   \n",
       "1  288.24  Private room        False          True                2   \n",
       "\n",
       "   host_is_superhost  multi  biz  cleanliness_rating  \\\n",
       "0               True      0    0                  10   \n",
       "1               True      0    0                  10   \n",
       "\n",
       "   guest_satisfaction_overall  bedrooms  city_distance  metro_distance  \\\n",
       "0                          97         1            0.7            0.19   \n",
       "1                          97         1            2.1            0.11   \n",
       "\n",
       "   attractivity_index  rest_index      lng       lat  \n",
       "0              518.48     1218.66  2.35385  48.86282  \n",
       "1              873.22     1000.54  2.32436  48.85902  "
      ]
     },
     "execution_count": 7,
     "metadata": {},
     "output_type": "execute_result"
    }
   ],
   "source": [
    "paris_df.head(2)"
   ]
  },
  {
   "cell_type": "code",
   "execution_count": 8,
   "id": "19a6af19",
   "metadata": {},
   "outputs": [
    {
     "data": {
      "text/html": [
       "<div>\n",
       "<style scoped>\n",
       "    .dataframe tbody tr th:only-of-type {\n",
       "        vertical-align: middle;\n",
       "    }\n",
       "\n",
       "    .dataframe tbody tr th {\n",
       "        vertical-align: top;\n",
       "    }\n",
       "\n",
       "    .dataframe thead th {\n",
       "        text-align: right;\n",
       "    }\n",
       "</style>\n",
       "<table border=\"1\" class=\"dataframe\">\n",
       "  <thead>\n",
       "    <tr style=\"text-align: right;\">\n",
       "      <th></th>\n",
       "      <th>Price</th>\n",
       "      <th>person_capacity</th>\n",
       "      <th>multi</th>\n",
       "      <th>biz</th>\n",
       "      <th>cleanliness_rating</th>\n",
       "      <th>guest_satisfaction_overall</th>\n",
       "      <th>bedrooms</th>\n",
       "      <th>city_distance</th>\n",
       "      <th>metro_distance</th>\n",
       "      <th>attractivity_index</th>\n",
       "      <th>rest_index</th>\n",
       "      <th>lng</th>\n",
       "      <th>lat</th>\n",
       "    </tr>\n",
       "  </thead>\n",
       "  <tbody>\n",
       "    <tr>\n",
       "      <th>count</th>\n",
       "      <td>3130.00</td>\n",
       "      <td>3130.00</td>\n",
       "      <td>3130.00</td>\n",
       "      <td>3130.00</td>\n",
       "      <td>3130.00</td>\n",
       "      <td>3130.00</td>\n",
       "      <td>3130.00</td>\n",
       "      <td>3130.00</td>\n",
       "      <td>3130.00</td>\n",
       "      <td>3130.00</td>\n",
       "      <td>3130.00</td>\n",
       "      <td>3130.00</td>\n",
       "      <td>3130.00</td>\n",
       "    </tr>\n",
       "    <tr>\n",
       "      <th>mean</th>\n",
       "      <td>398.79</td>\n",
       "      <td>2.95</td>\n",
       "      <td>0.22</td>\n",
       "      <td>0.26</td>\n",
       "      <td>9.25</td>\n",
       "      <td>91.85</td>\n",
       "      <td>0.97</td>\n",
       "      <td>3.01</td>\n",
       "      <td>0.23</td>\n",
       "      <td>372.18</td>\n",
       "      <td>815.19</td>\n",
       "      <td>2.34</td>\n",
       "      <td>48.86</td>\n",
       "    </tr>\n",
       "    <tr>\n",
       "      <th>std</th>\n",
       "      <td>396.37</td>\n",
       "      <td>1.23</td>\n",
       "      <td>0.42</td>\n",
       "      <td>0.44</td>\n",
       "      <td>0.99</td>\n",
       "      <td>9.00</td>\n",
       "      <td>0.64</td>\n",
       "      <td>1.47</td>\n",
       "      <td>0.12</td>\n",
       "      <td>158.85</td>\n",
       "      <td>284.12</td>\n",
       "      <td>0.03</td>\n",
       "      <td>0.02</td>\n",
       "    </tr>\n",
       "    <tr>\n",
       "      <th>min</th>\n",
       "      <td>92.74</td>\n",
       "      <td>2.00</td>\n",
       "      <td>0.00</td>\n",
       "      <td>0.00</td>\n",
       "      <td>2.00</td>\n",
       "      <td>20.00</td>\n",
       "      <td>0.00</td>\n",
       "      <td>0.07</td>\n",
       "      <td>0.00</td>\n",
       "      <td>116.30</td>\n",
       "      <td>258.67</td>\n",
       "      <td>2.25</td>\n",
       "      <td>48.82</td>\n",
       "    </tr>\n",
       "    <tr>\n",
       "      <th>25%</th>\n",
       "      <td>240.00</td>\n",
       "      <td>2.00</td>\n",
       "      <td>0.00</td>\n",
       "      <td>0.00</td>\n",
       "      <td>9.00</td>\n",
       "      <td>89.00</td>\n",
       "      <td>1.00</td>\n",
       "      <td>1.84</td>\n",
       "      <td>0.14</td>\n",
       "      <td>259.09</td>\n",
       "      <td>587.51</td>\n",
       "      <td>2.32</td>\n",
       "      <td>48.85</td>\n",
       "    </tr>\n",
       "    <tr>\n",
       "      <th>50%</th>\n",
       "      <td>318.53</td>\n",
       "      <td>2.00</td>\n",
       "      <td>0.00</td>\n",
       "      <td>0.00</td>\n",
       "      <td>9.00</td>\n",
       "      <td>94.00</td>\n",
       "      <td>1.00</td>\n",
       "      <td>3.02</td>\n",
       "      <td>0.21</td>\n",
       "      <td>336.56</td>\n",
       "      <td>765.04</td>\n",
       "      <td>2.35</td>\n",
       "      <td>48.87</td>\n",
       "    </tr>\n",
       "    <tr>\n",
       "      <th>75%</th>\n",
       "      <td>463.46</td>\n",
       "      <td>4.00</td>\n",
       "      <td>0.00</td>\n",
       "      <td>1.00</td>\n",
       "      <td>10.00</td>\n",
       "      <td>98.00</td>\n",
       "      <td>1.00</td>\n",
       "      <td>4.06</td>\n",
       "      <td>0.29</td>\n",
       "      <td>455.82</td>\n",
       "      <td>1037.63</td>\n",
       "      <td>2.37</td>\n",
       "      <td>48.88</td>\n",
       "    </tr>\n",
       "    <tr>\n",
       "      <th>max</th>\n",
       "      <td>16445.61</td>\n",
       "      <td>6.00</td>\n",
       "      <td>1.00</td>\n",
       "      <td>1.00</td>\n",
       "      <td>10.00</td>\n",
       "      <td>100.00</td>\n",
       "      <td>5.00</td>\n",
       "      <td>7.70</td>\n",
       "      <td>1.15</td>\n",
       "      <td>2054.25</td>\n",
       "      <td>1701.85</td>\n",
       "      <td>2.44</td>\n",
       "      <td>48.90</td>\n",
       "    </tr>\n",
       "  </tbody>\n",
       "</table>\n",
       "</div>"
      ],
      "text/plain": [
       "          Price  person_capacity    multi      biz  cleanliness_rating  \\\n",
       "count   3130.00          3130.00  3130.00  3130.00             3130.00   \n",
       "mean     398.79             2.95     0.22     0.26                9.25   \n",
       "std      396.37             1.23     0.42     0.44                0.99   \n",
       "min       92.74             2.00     0.00     0.00                2.00   \n",
       "25%      240.00             2.00     0.00     0.00                9.00   \n",
       "50%      318.53             2.00     0.00     0.00                9.00   \n",
       "75%      463.46             4.00     0.00     1.00               10.00   \n",
       "max    16445.61             6.00     1.00     1.00               10.00   \n",
       "\n",
       "       guest_satisfaction_overall  bedrooms  city_distance  metro_distance  \\\n",
       "count                     3130.00   3130.00        3130.00         3130.00   \n",
       "mean                        91.85      0.97           3.01            0.23   \n",
       "std                          9.00      0.64           1.47            0.12   \n",
       "min                         20.00      0.00           0.07            0.00   \n",
       "25%                         89.00      1.00           1.84            0.14   \n",
       "50%                         94.00      1.00           3.02            0.21   \n",
       "75%                         98.00      1.00           4.06            0.29   \n",
       "max                        100.00      5.00           7.70            1.15   \n",
       "\n",
       "       attractivity_index  rest_index      lng      lat  \n",
       "count             3130.00     3130.00  3130.00  3130.00  \n",
       "mean               372.18      815.19     2.34    48.86  \n",
       "std                158.85      284.12     0.03     0.02  \n",
       "min                116.30      258.67     2.25    48.82  \n",
       "25%                259.09      587.51     2.32    48.85  \n",
       "50%                336.56      765.04     2.35    48.87  \n",
       "75%                455.82     1037.63     2.37    48.88  \n",
       "max               2054.25     1701.85     2.44    48.90  "
      ]
     },
     "execution_count": 8,
     "metadata": {},
     "output_type": "execute_result"
    }
   ],
   "source": [
    "paris_df.describe().round(2)\n",
    "# We can quickly observe that the average price per listing is 398.79 per week. \n",
    "# The average person capacity per listing is 2.95 people. \n",
    "# Most of the listing are single rooms. This is shown by the \"multi\" boolean variable whose average is close to 0.\n",
    "# Most of the listing are not aveiable for business puproses. This is shown by the \"biz\" boolean variable whose average is close to 0.\n",
    "# The cleanliness overall rating is very high averaging 9.25 out of 10 and with little standard deviation 0.99.\n",
    "# Similar situation for the guest satisfaction, high average rate of 91.85 out of 100 and small standard deviation.\n",
    "# The distance to the city center is an average distance of 3.01 km. In this case the listings have a further spread due to a std. dev. of 1.47.\n",
    "# The distance to the metro is on an average of 230 meters.\n",
    "\n",
    "# We can observe that many variables are not icnluded in this statistic summary because they are either boolean or categorical variables.\n",
    "# We will need to bin or recategorize these values to dummy varaibles to gain further insights."
   ]
  },
  {
   "cell_type": "code",
   "execution_count": 9,
   "id": "ad375db4",
   "metadata": {},
   "outputs": [
    {
     "name": "stdout",
     "output_type": "stream",
     "text": [
      "Number of missing values:  Price                         0\n",
      "room_type                     0\n",
      "room_shared                   0\n",
      "room_private                  0\n",
      "person_capacity               0\n",
      "host_is_superhost             0\n",
      "multi                         0\n",
      "biz                           0\n",
      "cleanliness_rating            0\n",
      "guest_satisfaction_overall    0\n",
      "bedrooms                      0\n",
      "city_distance                 0\n",
      "metro_distance                0\n",
      "attractivity_index            0\n",
      "rest_index                    0\n",
      "lng                           0\n",
      "lat                           0\n",
      "dtype: int64\n"
     ]
    }
   ],
   "source": [
    "print('Number of missing values: ', paris_df.isnull().sum())\n",
    "# Checking null values"
   ]
  },
  {
   "cell_type": "code",
   "execution_count": 10,
   "id": "7b802958",
   "metadata": {},
   "outputs": [
    {
     "data": {
      "image/png": "[encoded data removed]",
      "text/plain": [
       "<Figure size 800x400 with 4 Axes>"
      ]
     },
     "metadata": {},
     "output_type": "display_data"
    }
   ],
   "source": [
    "#matplotversion\n",
    "import matplotlib.pylab as plt\n",
    "fig, axes = plt.subplots(figsize=(8, 4), nrows = 1, ncols = 4)\n",
    "paris_df.boxplot(column='Price', ax=axes[0])\n",
    "paris_df.boxplot(column='guest_satisfaction_overall', by='host_is_superhost', ax=axes[1])\n",
    "paris_df.boxplot(column='city_distance', by='host_is_superhost', ax=axes[2])\n",
    "paris_df.boxplot(column='attractivity_index', by='host_is_superhost', ax=axes[3])\n",
    "for ax in axes:\n",
    "    ax.set_xlabel('host_is_superhost')\n",
    "    ax.set_ylabel('count')\n",
    "plt.suptitle('') \n",
    "plt.tight_layout()\n",
    "\n",
    "# We can see a very high outliers in the Pice variable which has to be removed form the dataset to avoid distortions."
   ]
  },
  {
   "cell_type": "markdown",
   "id": "5b34ba76",
   "metadata": {},
   "source": [
    "# Dealing with outliers"
   ]
  },
  {
   "cell_type": "code",
   "execution_count": 11,
   "id": "07b7c510",
   "metadata": {},
   "outputs": [
    {
     "name": "stdout",
     "output_type": "stream",
     "text": [
      "The total amount of Price outliers are 192 out of 3130 records.\n",
      "Every price above $798.65 is considered a price outlier. The price outliers represent 6.0% of the records.\n"
     ]
    }
   ],
   "source": [
    "#Reference: https://stackoverflow.com/questions/23199796/detect-and-exclude-outliers-in-a-pandas-dataframe\n",
    "#Calculating quartiles and interquartile range to determine outliers, to later sum \n",
    "# up the charges of outliers. This way we can see how important outliers are for \n",
    "# the business.\n",
    "\n",
    "# total_charges = int(insurance_df['charges'].sum())\n",
    "# print('The total sum of charges is: $' + str(total_charges))\n",
    "q_low = paris_df['Price'].quantile(0.25)\n",
    "q_hi  = paris_df['Price'].quantile(0.75)\n",
    "iqr = q_hi-q_low\n",
    "lower_range = q_low-(1.5*iqr)\n",
    "upper_range = q_hi+(1.5*iqr)\n",
    "#print(q_low)\n",
    "#print(q_hi)\n",
    "#print(iqr)\n",
    "#print(lower_range)\n",
    "#print(upper_range)\n",
    "\n",
    "n = 0\n",
    "for i in paris_df.Price:\n",
    "    if i >=upper_range:\n",
    "        n = n + 1\n",
    "    elif i <=lower_range:\n",
    "        n = n + 1\n",
    "    else:\n",
    "        n = n\n",
    "\n",
    "n = int(n)        \n",
    "print ('The total amount of Price outliers are ' + str(n) + ' out of ' + str(paris_df.Price.count()) + ' records.')\n",
    "print ('Every price above $' + str(upper_range.round(2)) + ' is considered a price outlier. The price outliers represent ' + str((n/paris_df.Price.count()).round(2)*100) + '% of the records.') "
   ]
  },
  {
   "cell_type": "code",
   "execution_count": 12,
   "id": "0da0fa16",
   "metadata": {},
   "outputs": [],
   "source": [
    "# Removing all records with price over $1000\n",
    "# https://sparkbyexamples.com/pandas/pandas-drop-rows-with-condition/#:~:text=Use%20pandas.,rows%20with%20condition(s).\n",
    "paris_df = paris_df[paris_df.Price <= 798.65]"
   ]
  },
  {
   "cell_type": "code",
   "execution_count": 13,
   "id": "82fe0dbc",
   "metadata": {},
   "outputs": [
    {
     "data": {
      "text/plain": [
       "(2938, 17)"
      ]
     },
     "execution_count": 13,
     "metadata": {},
     "output_type": "execute_result"
    }
   ],
   "source": [
    "paris_df.shape\n",
    "# After removing many Price outliers we reduced the records from 3130 to 2938."
   ]
  },
  {
   "cell_type": "code",
   "execution_count": 14,
   "id": "5f18ee6d",
   "metadata": {},
   "outputs": [
    {
     "data": {
      "image/png": "[encoded data removed]",
      "text/plain": [
       "<Figure size 800x400 with 4 Axes>"
      ]
     },
     "metadata": {},
     "output_type": "display_data"
    }
   ],
   "source": [
    "fig, axes = plt.subplots(figsize=(8, 4), nrows = 1, ncols = 4)\n",
    "paris_df.boxplot(column='Price', ax=axes[0])\n",
    "paris_df.boxplot(column='guest_satisfaction_overall', by='host_is_superhost', ax=axes[1])\n",
    "paris_df.boxplot(column='city_distance', by='host_is_superhost', ax=axes[2])\n",
    "paris_df.boxplot(column='attractivity_index', by='host_is_superhost', ax=axes[3])\n",
    "for ax in axes:\n",
    "    ax.set_xlabel('host_is_superhost')\n",
    "    ax.set_ylabel('count')\n",
    "plt.suptitle('') \n",
    "plt.tight_layout()"
   ]
  },
  {
   "cell_type": "code",
   "execution_count": 15,
   "id": "12b10b72",
   "metadata": {},
   "outputs": [],
   "source": [
    "# Removing all records with attractivity index over 1000.\n",
    "# https://sparkbyexamples.com/pandas/pandas-drop-rows-with-condition/#:~:text=Use%20pandas.,rows%20with%20condition(s).\n",
    "paris_df = paris_df[paris_df.attractivity_index <= 1000]"
   ]
  },
  {
   "cell_type": "code",
   "execution_count": 16,
   "id": "a24c54df",
   "metadata": {},
   "outputs": [
    {
     "data": {
      "text/plain": [
       "Text(0.5, 1.0, '')"
      ]
     },
     "execution_count": 16,
     "metadata": {},
     "output_type": "execute_result"
    },
    {
     "data": {
      "image/png": "[encoded data removed]",
      "text/plain": [
       "<Figure size 640x480 with 1 Axes>"
      ]
     },
     "metadata": {},
     "output_type": "display_data"
    }
   ],
   "source": [
    "fig, ax = plt.subplots()\n",
    "ax.hist(paris_df.Price)\n",
    "ax.set_axisbelow(True)\n",
    "ax.grid(which='major', color='red', linestyle='--')\n",
    "plt.suptitle('Price Histogram')\n",
    "plt.title('')\n",
    "# Price distribution has now modified because we removed the bigest outliers. After doing this the main the tatitics of price have now\n",
    "# changed. We still have oultiers but the dispersion of these are veryclose to the rest as before, so we can work with these."
   ]
  },
  {
   "cell_type": "code",
   "execution_count": 17,
   "id": "7efbeb42",
   "metadata": {},
   "outputs": [
    {
     "data": {
      "text/plain": [
       "<AxesSubplot:>"
      ]
     },
     "execution_count": 17,
     "metadata": {},
     "output_type": "execute_result"
    },
    {
     "data": {
      "image/png": "[encoded data removed]",
      "text/plain": [
       "<Figure size 1100x700 with 2 Axes>"
      ]
     },
     "metadata": {},
     "output_type": "display_data"
    }
   ],
   "source": [
    "import seaborn as sns\n",
    "corr = paris_df.corr()\n",
    "fig, ax = plt.subplots()\n",
    "fig.set_size_inches(11, 7)\n",
    "sns.heatmap(corr, annot=True, fmt=\".1f\", cmap=\"RdBu\", center=0, ax=ax)\n",
    "# We run a correlation graph to undesrtand which are the most correlated variables to the outcome \"Price\" variable, and to \n",
    "# find out if there is covariability between predictor variables.\n",
    "# Correlation to \"Price\" outcome variable:\n",
    "# We can see that the biggest correlation to the outcome \"price\" variables are: person capacity with \"0.5\" \"attractivity_index\" with 0.4, \"rest index\" with 0.3 and \"bedrooms\" with 0.3.\n",
    "# Then there are other predictors more weakly correlated to the \"Price\" outcome variable.\n",
    "# Covariability:\n",
    "# Rest index and city distance have a high covariability. We'll drop city distance becuase this variable has a lower corrletaion to \"Price\".\n",
    "# Attractivity index and rest index have a high covariation. We'll use attractivity index as it has a better correlation to \"Price\".\n",
    "# \"Cleanlines rating\" and \"guess satisfaction overall\" have a high covariation too, but they are both poorly correlated to price (0.1 and 0.0)."
   ]
  },
  {
   "cell_type": "markdown",
   "id": "4a76a617",
   "metadata": {},
   "source": [
    "# Standardizing attractivity_index predictor"
   ]
  },
  {
   "cell_type": "code",
   "execution_count": 18,
   "id": "fc95620e",
   "metadata": {},
   "outputs": [
    {
     "data": {
      "text/html": [
       "<div>\n",
       "<style scoped>\n",
       "    .dataframe tbody tr th:only-of-type {\n",
       "        vertical-align: middle;\n",
       "    }\n",
       "\n",
       "    .dataframe tbody tr th {\n",
       "        vertical-align: top;\n",
       "    }\n",
       "\n",
       "    .dataframe thead th {\n",
       "        text-align: right;\n",
       "    }\n",
       "</style>\n",
       "<table border=\"1\" class=\"dataframe\">\n",
       "  <thead>\n",
       "    <tr style=\"text-align: right;\">\n",
       "      <th></th>\n",
       "      <th>Price</th>\n",
       "      <th>room_type</th>\n",
       "      <th>room_shared</th>\n",
       "      <th>room_private</th>\n",
       "      <th>person_capacity</th>\n",
       "      <th>host_is_superhost</th>\n",
       "      <th>multi</th>\n",
       "      <th>biz</th>\n",
       "      <th>cleanliness_rating</th>\n",
       "      <th>guest_satisfaction_overall</th>\n",
       "      <th>bedrooms</th>\n",
       "      <th>city_distance</th>\n",
       "      <th>metro_distance</th>\n",
       "      <th>attractivity_index</th>\n",
       "      <th>rest_index</th>\n",
       "      <th>lng</th>\n",
       "      <th>lat</th>\n",
       "    </tr>\n",
       "  </thead>\n",
       "  <tbody>\n",
       "    <tr>\n",
       "      <th>0</th>\n",
       "      <td>296.16</td>\n",
       "      <td>Private room</td>\n",
       "      <td>False</td>\n",
       "      <td>True</td>\n",
       "      <td>2</td>\n",
       "      <td>True</td>\n",
       "      <td>0</td>\n",
       "      <td>0</td>\n",
       "      <td>10</td>\n",
       "      <td>97</td>\n",
       "      <td>1</td>\n",
       "      <td>0.7</td>\n",
       "      <td>0.19</td>\n",
       "      <td>518.48</td>\n",
       "      <td>1218.66</td>\n",
       "      <td>2.35385</td>\n",
       "      <td>48.86282</td>\n",
       "    </tr>\n",
       "    <tr>\n",
       "      <th>1</th>\n",
       "      <td>288.24</td>\n",
       "      <td>Private room</td>\n",
       "      <td>False</td>\n",
       "      <td>True</td>\n",
       "      <td>2</td>\n",
       "      <td>True</td>\n",
       "      <td>0</td>\n",
       "      <td>0</td>\n",
       "      <td>10</td>\n",
       "      <td>97</td>\n",
       "      <td>1</td>\n",
       "      <td>2.1</td>\n",
       "      <td>0.11</td>\n",
       "      <td>873.22</td>\n",
       "      <td>1000.54</td>\n",
       "      <td>2.32436</td>\n",
       "      <td>48.85902</td>\n",
       "    </tr>\n",
       "  </tbody>\n",
       "</table>\n",
       "</div>"
      ],
      "text/plain": [
       "    Price     room_type  room_shared  room_private  person_capacity  \\\n",
       "0  296.16  Private room        False          True                2   \n",
       "1  288.24  Private room        False          True                2   \n",
       "\n",
       "   host_is_superhost  multi  biz  cleanliness_rating  \\\n",
       "0               True      0    0                  10   \n",
       "1               True      0    0                  10   \n",
       "\n",
       "   guest_satisfaction_overall  bedrooms  city_distance  metro_distance  \\\n",
       "0                          97         1            0.7            0.19   \n",
       "1                          97         1            2.1            0.11   \n",
       "\n",
       "   attractivity_index  rest_index      lng       lat  \n",
       "0              518.48     1218.66  2.35385  48.86282  \n",
       "1              873.22     1000.54  2.32436  48.85902  "
      ]
     },
     "execution_count": 18,
     "metadata": {},
     "output_type": "execute_result"
    }
   ],
   "source": [
    "paris_df.head(2)"
   ]
  },
  {
   "cell_type": "code",
   "execution_count": 19,
   "id": "f7a90bdb",
   "metadata": {},
   "outputs": [],
   "source": [
    "attr_df = pd.DataFrame(paris_df.attractivity_index)"
   ]
  },
  {
   "cell_type": "code",
   "execution_count": 20,
   "id": "adb6dcbf",
   "metadata": {},
   "outputs": [
    {
     "name": "stdout",
     "output_type": "stream",
     "text": [
      "      attractivity_index\n",
      "0               0.463576\n",
      "1               0.872470\n",
      "2               0.378372\n",
      "3               0.490848\n",
      "4               0.334997\n",
      "...                  ...\n",
      "3125            0.079752\n",
      "3126            0.064964\n",
      "3127            0.071373\n",
      "3128            0.137016\n",
      "3129            0.097215\n",
      "\n",
      "[2931 rows x 1 columns]\n"
     ]
    }
   ],
   "source": [
    "from sklearn.preprocessing import MinMaxScaler\n",
    "scaler = MinMaxScaler() \n",
    "norm_df = pd.DataFrame(scaler.fit_transform(attr_df),index=attr_df.index,columns=attr_df.columns)\n",
    "print(norm_df)\n",
    "\n",
    "#norm_df = pd.DataFrame(scaler.fit_transform(onlyNumeric_df),index=onlyNumeric_df.index,columns=onlyNumeric_df.columns)\n",
    "#print(norm_df)"
   ]
  },
  {
   "cell_type": "code",
   "execution_count": 21,
   "id": "c5d6ee17",
   "metadata": {},
   "outputs": [],
   "source": [
    "paris_df['attractivity_index_standard'] = round(norm_df.attractivity_index*100,2)"
   ]
  },
  {
   "cell_type": "code",
   "execution_count": 22,
   "id": "d45b552f",
   "metadata": {},
   "outputs": [
    {
     "data": {
      "text/plain": [
       "28.308065506653"
      ]
     },
     "execution_count": 22,
     "metadata": {},
     "output_type": "execute_result"
    }
   ],
   "source": [
    "paris_df.attractivity_index_standard.mean()"
   ]
  },
  {
   "cell_type": "code",
   "execution_count": 23,
   "id": "a9e62e8f",
   "metadata": {},
   "outputs": [
    {
     "data": {
      "text/html": [
       "<div>\n",
       "<style scoped>\n",
       "    .dataframe tbody tr th:only-of-type {\n",
       "        vertical-align: middle;\n",
       "    }\n",
       "\n",
       "    .dataframe tbody tr th {\n",
       "        vertical-align: top;\n",
       "    }\n",
       "\n",
       "    .dataframe thead th {\n",
       "        text-align: right;\n",
       "    }\n",
       "</style>\n",
       "<table border=\"1\" class=\"dataframe\">\n",
       "  <thead>\n",
       "    <tr style=\"text-align: right;\">\n",
       "      <th></th>\n",
       "      <th>Price</th>\n",
       "      <th>room_type</th>\n",
       "      <th>room_shared</th>\n",
       "      <th>room_private</th>\n",
       "      <th>person_capacity</th>\n",
       "      <th>host_is_superhost</th>\n",
       "      <th>multi</th>\n",
       "      <th>biz</th>\n",
       "      <th>cleanliness_rating</th>\n",
       "      <th>guest_satisfaction_overall</th>\n",
       "      <th>bedrooms</th>\n",
       "      <th>city_distance</th>\n",
       "      <th>metro_distance</th>\n",
       "      <th>attractivity_index</th>\n",
       "      <th>rest_index</th>\n",
       "      <th>lng</th>\n",
       "      <th>lat</th>\n",
       "      <th>attractivity_index_standard</th>\n",
       "    </tr>\n",
       "  </thead>\n",
       "  <tbody>\n",
       "    <tr>\n",
       "      <th>0</th>\n",
       "      <td>296.16</td>\n",
       "      <td>Private room</td>\n",
       "      <td>False</td>\n",
       "      <td>True</td>\n",
       "      <td>2</td>\n",
       "      <td>True</td>\n",
       "      <td>0</td>\n",
       "      <td>0</td>\n",
       "      <td>10</td>\n",
       "      <td>97</td>\n",
       "      <td>1</td>\n",
       "      <td>0.7</td>\n",
       "      <td>0.19</td>\n",
       "      <td>518.48</td>\n",
       "      <td>1218.66</td>\n",
       "      <td>2.35385</td>\n",
       "      <td>48.86282</td>\n",
       "      <td>46.36</td>\n",
       "    </tr>\n",
       "    <tr>\n",
       "      <th>1</th>\n",
       "      <td>288.24</td>\n",
       "      <td>Private room</td>\n",
       "      <td>False</td>\n",
       "      <td>True</td>\n",
       "      <td>2</td>\n",
       "      <td>True</td>\n",
       "      <td>0</td>\n",
       "      <td>0</td>\n",
       "      <td>10</td>\n",
       "      <td>97</td>\n",
       "      <td>1</td>\n",
       "      <td>2.1</td>\n",
       "      <td>0.11</td>\n",
       "      <td>873.22</td>\n",
       "      <td>1000.54</td>\n",
       "      <td>2.32436</td>\n",
       "      <td>48.85902</td>\n",
       "      <td>87.25</td>\n",
       "    </tr>\n",
       "  </tbody>\n",
       "</table>\n",
       "</div>"
      ],
      "text/plain": [
       "    Price     room_type  room_shared  room_private  person_capacity  \\\n",
       "0  296.16  Private room        False          True                2   \n",
       "1  288.24  Private room        False          True                2   \n",
       "\n",
       "   host_is_superhost  multi  biz  cleanliness_rating  \\\n",
       "0               True      0    0                  10   \n",
       "1               True      0    0                  10   \n",
       "\n",
       "   guest_satisfaction_overall  bedrooms  city_distance  metro_distance  \\\n",
       "0                          97         1            0.7            0.19   \n",
       "1                          97         1            2.1            0.11   \n",
       "\n",
       "   attractivity_index  rest_index      lng       lat  \\\n",
       "0              518.48     1218.66  2.35385  48.86282   \n",
       "1              873.22     1000.54  2.32436  48.85902   \n",
       "\n",
       "   attractivity_index_standard  \n",
       "0                        46.36  \n",
       "1                        87.25  "
      ]
     },
     "execution_count": 23,
     "metadata": {},
     "output_type": "execute_result"
    }
   ],
   "source": [
    "paris_df.head(2)"
   ]
  },
  {
   "cell_type": "code",
   "execution_count": 24,
   "id": "52b9e0a7",
   "metadata": {},
   "outputs": [
    {
     "data": {
      "image/png": "[encoded data removed]",
      "text/plain": [
       "<Figure size 800x400 with 4 Axes>"
      ]
     },
     "metadata": {},
     "output_type": "display_data"
    }
   ],
   "source": [
    "fig, axes = plt.subplots(figsize=(8, 4), nrows = 1, ncols = 4)\n",
    "paris_df.boxplot(column='Price', by='host_is_superhost',ax=axes[0])\n",
    "paris_df.boxplot(column='guest_satisfaction_overall', by='host_is_superhost', ax=axes[1])\n",
    "paris_df.boxplot(column='city_distance', by='host_is_superhost', ax=axes[2])\n",
    "paris_df.boxplot(column='attractivity_index', by='host_is_superhost', ax=axes[3])\n",
    "for ax in axes:\n",
    "    ax.set_xlabel('host_is_superhost')\n",
    "    ax.set_ylabel('count')\n",
    "plt.suptitle('') \n",
    "plt.tight_layout()\n",
    "# Notice how superhost prices have a higher average price than non-superhost listings. The same happens with guest satisfaction, \n",
    "# but not necessarily with attractivity distance.  "
   ]
  },
  {
   "cell_type": "code",
   "execution_count": 25,
   "id": "a826568b",
   "metadata": {},
   "outputs": [
    {
     "data": {
      "text/plain": [
       "<AxesSubplot:xlabel='attractivity_index_standard', ylabel='Price'>"
      ]
     },
     "execution_count": 25,
     "metadata": {},
     "output_type": "execute_result"
    },
    {
     "data": {
      "image/png": "[encoded data removed]",
      "text/plain": [
       "<Figure size 640x480 with 1 Axes>"
      ]
     },
     "metadata": {},
     "output_type": "display_data"
    }
   ],
   "source": [
    "# Scatterplot\n",
    "paris_df.plot.scatter(x='attractivity_index_standard', y='Price', c=['C0' if c == 1 else 'C1' for c in paris_df.host_is_superhost])\n"
   ]
  },
  {
   "cell_type": "markdown",
   "id": "60251174",
   "metadata": {},
   "source": [
    "# Creating categorical bins for some predictors"
   ]
  },
  {
   "cell_type": "code",
   "execution_count": 26,
   "id": "49a6696c",
   "metadata": {},
   "outputs": [
    {
     "data": {
      "text/html": [
       "<div>\n",
       "<style scoped>\n",
       "    .dataframe tbody tr th:only-of-type {\n",
       "        vertical-align: middle;\n",
       "    }\n",
       "\n",
       "    .dataframe tbody tr th {\n",
       "        vertical-align: top;\n",
       "    }\n",
       "\n",
       "    .dataframe thead th {\n",
       "        text-align: right;\n",
       "    }\n",
       "</style>\n",
       "<table border=\"1\" class=\"dataframe\">\n",
       "  <thead>\n",
       "    <tr style=\"text-align: right;\">\n",
       "      <th></th>\n",
       "      <th>Price</th>\n",
       "      <th>room_type</th>\n",
       "      <th>room_shared</th>\n",
       "      <th>room_private</th>\n",
       "      <th>person_capacity</th>\n",
       "      <th>host_is_superhost</th>\n",
       "      <th>multi</th>\n",
       "      <th>biz</th>\n",
       "      <th>cleanliness_rating</th>\n",
       "      <th>guest_satisfaction_overall</th>\n",
       "      <th>bedrooms</th>\n",
       "      <th>city_distance</th>\n",
       "      <th>metro_distance</th>\n",
       "      <th>attractivity_index</th>\n",
       "      <th>rest_index</th>\n",
       "      <th>lng</th>\n",
       "      <th>lat</th>\n",
       "      <th>attractivity_index_standard</th>\n",
       "    </tr>\n",
       "  </thead>\n",
       "  <tbody>\n",
       "    <tr>\n",
       "      <th>0</th>\n",
       "      <td>296.16</td>\n",
       "      <td>Private room</td>\n",
       "      <td>False</td>\n",
       "      <td>True</td>\n",
       "      <td>2</td>\n",
       "      <td>True</td>\n",
       "      <td>0</td>\n",
       "      <td>0</td>\n",
       "      <td>10</td>\n",
       "      <td>97</td>\n",
       "      <td>1</td>\n",
       "      <td>0.70</td>\n",
       "      <td>0.19</td>\n",
       "      <td>518.48</td>\n",
       "      <td>1218.66</td>\n",
       "      <td>2.35385</td>\n",
       "      <td>48.86282</td>\n",
       "      <td>46.36</td>\n",
       "    </tr>\n",
       "    <tr>\n",
       "      <th>1</th>\n",
       "      <td>288.24</td>\n",
       "      <td>Private room</td>\n",
       "      <td>False</td>\n",
       "      <td>True</td>\n",
       "      <td>2</td>\n",
       "      <td>True</td>\n",
       "      <td>0</td>\n",
       "      <td>0</td>\n",
       "      <td>10</td>\n",
       "      <td>97</td>\n",
       "      <td>1</td>\n",
       "      <td>2.10</td>\n",
       "      <td>0.11</td>\n",
       "      <td>873.22</td>\n",
       "      <td>1000.54</td>\n",
       "      <td>2.32436</td>\n",
       "      <td>48.85902</td>\n",
       "      <td>87.25</td>\n",
       "    </tr>\n",
       "    <tr>\n",
       "      <th>2</th>\n",
       "      <td>211.34</td>\n",
       "      <td>Private room</td>\n",
       "      <td>False</td>\n",
       "      <td>True</td>\n",
       "      <td>2</td>\n",
       "      <td>False</td>\n",
       "      <td>0</td>\n",
       "      <td>0</td>\n",
       "      <td>10</td>\n",
       "      <td>94</td>\n",
       "      <td>1</td>\n",
       "      <td>3.30</td>\n",
       "      <td>0.23</td>\n",
       "      <td>444.56</td>\n",
       "      <td>902.85</td>\n",
       "      <td>2.31714</td>\n",
       "      <td>48.87475</td>\n",
       "      <td>37.84</td>\n",
       "    </tr>\n",
       "    <tr>\n",
       "      <th>3</th>\n",
       "      <td>298.96</td>\n",
       "      <td>Entire home/apt</td>\n",
       "      <td>False</td>\n",
       "      <td>False</td>\n",
       "      <td>2</td>\n",
       "      <td>False</td>\n",
       "      <td>0</td>\n",
       "      <td>1</td>\n",
       "      <td>9</td>\n",
       "      <td>91</td>\n",
       "      <td>1</td>\n",
       "      <td>0.55</td>\n",
       "      <td>0.20</td>\n",
       "      <td>542.14</td>\n",
       "      <td>1199.18</td>\n",
       "      <td>2.35600</td>\n",
       "      <td>48.86100</td>\n",
       "      <td>49.08</td>\n",
       "    </tr>\n",
       "    <tr>\n",
       "      <th>4</th>\n",
       "      <td>247.93</td>\n",
       "      <td>Entire home/apt</td>\n",
       "      <td>False</td>\n",
       "      <td>False</td>\n",
       "      <td>4</td>\n",
       "      <td>False</td>\n",
       "      <td>0</td>\n",
       "      <td>0</td>\n",
       "      <td>7</td>\n",
       "      <td>82</td>\n",
       "      <td>1</td>\n",
       "      <td>1.20</td>\n",
       "      <td>0.10</td>\n",
       "      <td>406.93</td>\n",
       "      <td>1070.78</td>\n",
       "      <td>2.35915</td>\n",
       "      <td>48.86648</td>\n",
       "      <td>33.50</td>\n",
       "    </tr>\n",
       "    <tr>\n",
       "      <th>5</th>\n",
       "      <td>527.08</td>\n",
       "      <td>Entire home/apt</td>\n",
       "      <td>False</td>\n",
       "      <td>False</td>\n",
       "      <td>4</td>\n",
       "      <td>True</td>\n",
       "      <td>0</td>\n",
       "      <td>0</td>\n",
       "      <td>10</td>\n",
       "      <td>93</td>\n",
       "      <td>1</td>\n",
       "      <td>1.54</td>\n",
       "      <td>0.55</td>\n",
       "      <td>967.48</td>\n",
       "      <td>1095.87</td>\n",
       "      <td>2.33201</td>\n",
       "      <td>48.85891</td>\n",
       "      <td>98.11</td>\n",
       "    </tr>\n",
       "    <tr>\n",
       "      <th>6</th>\n",
       "      <td>193.63</td>\n",
       "      <td>Private room</td>\n",
       "      <td>False</td>\n",
       "      <td>True</td>\n",
       "      <td>2</td>\n",
       "      <td>False</td>\n",
       "      <td>0</td>\n",
       "      <td>0</td>\n",
       "      <td>10</td>\n",
       "      <td>90</td>\n",
       "      <td>1</td>\n",
       "      <td>4.00</td>\n",
       "      <td>0.42</td>\n",
       "      <td>422.90</td>\n",
       "      <td>803.43</td>\n",
       "      <td>2.30670</td>\n",
       "      <td>48.87582</td>\n",
       "      <td>35.34</td>\n",
       "    </tr>\n",
       "    <tr>\n",
       "      <th>7</th>\n",
       "      <td>207.15</td>\n",
       "      <td>Entire home/apt</td>\n",
       "      <td>False</td>\n",
       "      <td>False</td>\n",
       "      <td>2</td>\n",
       "      <td>False</td>\n",
       "      <td>0</td>\n",
       "      <td>0</td>\n",
       "      <td>10</td>\n",
       "      <td>95</td>\n",
       "      <td>1</td>\n",
       "      <td>1.43</td>\n",
       "      <td>0.21</td>\n",
       "      <td>374.37</td>\n",
       "      <td>1018.16</td>\n",
       "      <td>2.36075</td>\n",
       "      <td>48.86825</td>\n",
       "      <td>29.75</td>\n",
       "    </tr>\n",
       "  </tbody>\n",
       "</table>\n",
       "</div>"
      ],
      "text/plain": [
       "    Price        room_type  room_shared  room_private  person_capacity  \\\n",
       "0  296.16     Private room        False          True                2   \n",
       "1  288.24     Private room        False          True                2   \n",
       "2  211.34     Private room        False          True                2   \n",
       "3  298.96  Entire home/apt        False         False                2   \n",
       "4  247.93  Entire home/apt        False         False                4   \n",
       "5  527.08  Entire home/apt        False         False                4   \n",
       "6  193.63     Private room        False          True                2   \n",
       "7  207.15  Entire home/apt        False         False                2   \n",
       "\n",
       "   host_is_superhost  multi  biz  cleanliness_rating  \\\n",
       "0               True      0    0                  10   \n",
       "1               True      0    0                  10   \n",
       "2              False      0    0                  10   \n",
       "3              False      0    1                   9   \n",
       "4              False      0    0                   7   \n",
       "5               True      0    0                  10   \n",
       "6              False      0    0                  10   \n",
       "7              False      0    0                  10   \n",
       "\n",
       "   guest_satisfaction_overall  bedrooms  city_distance  metro_distance  \\\n",
       "0                          97         1           0.70            0.19   \n",
       "1                          97         1           2.10            0.11   \n",
       "2                          94         1           3.30            0.23   \n",
       "3                          91         1           0.55            0.20   \n",
       "4                          82         1           1.20            0.10   \n",
       "5                          93         1           1.54            0.55   \n",
       "6                          90         1           4.00            0.42   \n",
       "7                          95         1           1.43            0.21   \n",
       "\n",
       "   attractivity_index  rest_index      lng       lat  \\\n",
       "0              518.48     1218.66  2.35385  48.86282   \n",
       "1              873.22     1000.54  2.32436  48.85902   \n",
       "2              444.56      902.85  2.31714  48.87475   \n",
       "3              542.14     1199.18  2.35600  48.86100   \n",
       "4              406.93     1070.78  2.35915  48.86648   \n",
       "5              967.48     1095.87  2.33201  48.85891   \n",
       "6              422.90      803.43  2.30670  48.87582   \n",
       "7              374.37     1018.16  2.36075  48.86825   \n",
       "\n",
       "   attractivity_index_standard  \n",
       "0                        46.36  \n",
       "1                        87.25  \n",
       "2                        37.84  \n",
       "3                        49.08  \n",
       "4                        33.50  \n",
       "5                        98.11  \n",
       "6                        35.34  \n",
       "7                        29.75  "
      ]
     },
     "execution_count": 26,
     "metadata": {},
     "output_type": "execute_result"
    }
   ],
   "source": [
    "paris_df.head(8)"
   ]
  },
  {
   "cell_type": "code",
   "execution_count": 27,
   "id": "f3f0b992",
   "metadata": {},
   "outputs": [
    {
     "data": {
      "text/html": [
       "<div>\n",
       "<style scoped>\n",
       "    .dataframe tbody tr th:only-of-type {\n",
       "        vertical-align: middle;\n",
       "    }\n",
       "\n",
       "    .dataframe tbody tr th {\n",
       "        vertical-align: top;\n",
       "    }\n",
       "\n",
       "    .dataframe thead th {\n",
       "        text-align: right;\n",
       "    }\n",
       "</style>\n",
       "<table border=\"1\" class=\"dataframe\">\n",
       "  <thead>\n",
       "    <tr style=\"text-align: right;\">\n",
       "      <th></th>\n",
       "      <th>Price</th>\n",
       "      <th>person_capacity</th>\n",
       "      <th>multi</th>\n",
       "      <th>biz</th>\n",
       "      <th>cleanliness_rating</th>\n",
       "      <th>guest_satisfaction_overall</th>\n",
       "      <th>bedrooms</th>\n",
       "      <th>city_distance</th>\n",
       "      <th>metro_distance</th>\n",
       "      <th>attractivity_index</th>\n",
       "      <th>rest_index</th>\n",
       "      <th>lng</th>\n",
       "      <th>lat</th>\n",
       "      <th>attractivity_index_standard</th>\n",
       "    </tr>\n",
       "  </thead>\n",
       "  <tbody>\n",
       "    <tr>\n",
       "      <th>count</th>\n",
       "      <td>2931.000000</td>\n",
       "      <td>2931.000000</td>\n",
       "      <td>2931.000000</td>\n",
       "      <td>2931.000000</td>\n",
       "      <td>2931.000000</td>\n",
       "      <td>2931.000000</td>\n",
       "      <td>2931.000000</td>\n",
       "      <td>2931.000000</td>\n",
       "      <td>2931.000000</td>\n",
       "      <td>2931.000000</td>\n",
       "      <td>2931.000000</td>\n",
       "      <td>2931.000000</td>\n",
       "      <td>2931.000000</td>\n",
       "      <td>2931.000000</td>\n",
       "    </tr>\n",
       "    <tr>\n",
       "      <th>mean</th>\n",
       "      <td>343.514906</td>\n",
       "      <td>2.845786</td>\n",
       "      <td>0.223132</td>\n",
       "      <td>0.247356</td>\n",
       "      <td>9.234391</td>\n",
       "      <td>91.745138</td>\n",
       "      <td>0.915387</td>\n",
       "      <td>3.037707</td>\n",
       "      <td>0.228731</td>\n",
       "      <td>361.889345</td>\n",
       "      <td>802.651528</td>\n",
       "      <td>2.344094</td>\n",
       "      <td>48.864292</td>\n",
       "      <td>28.308066</td>\n",
       "    </tr>\n",
       "    <tr>\n",
       "      <th>std</th>\n",
       "      <td>149.795011</td>\n",
       "      <td>1.146637</td>\n",
       "      <td>0.416417</td>\n",
       "      <td>0.431549</td>\n",
       "      <td>0.998971</td>\n",
       "      <td>9.016568</td>\n",
       "      <td>0.594920</td>\n",
       "      <td>1.461674</td>\n",
       "      <td>0.125454</td>\n",
       "      <td>145.854997</td>\n",
       "      <td>280.163650</td>\n",
       "      <td>0.034359</td>\n",
       "      <td>0.017708</td>\n",
       "      <td>16.812159</td>\n",
       "    </tr>\n",
       "    <tr>\n",
       "      <th>min</th>\n",
       "      <td>92.740000</td>\n",
       "      <td>2.000000</td>\n",
       "      <td>0.000000</td>\n",
       "      <td>0.000000</td>\n",
       "      <td>2.000000</td>\n",
       "      <td>20.000000</td>\n",
       "      <td>0.000000</td>\n",
       "      <td>0.070000</td>\n",
       "      <td>0.000000</td>\n",
       "      <td>116.300000</td>\n",
       "      <td>258.670000</td>\n",
       "      <td>2.247880</td>\n",
       "      <td>48.820280</td>\n",
       "      <td>0.000000</td>\n",
       "    </tr>\n",
       "    <tr>\n",
       "      <th>25%</th>\n",
       "      <td>235.695000</td>\n",
       "      <td>2.000000</td>\n",
       "      <td>0.000000</td>\n",
       "      <td>0.000000</td>\n",
       "      <td>9.000000</td>\n",
       "      <td>88.000000</td>\n",
       "      <td>1.000000</td>\n",
       "      <td>1.890000</td>\n",
       "      <td>0.140000</td>\n",
       "      <td>255.575000</td>\n",
       "      <td>577.775000</td>\n",
       "      <td>2.323450</td>\n",
       "      <td>48.851560</td>\n",
       "      <td>16.055000</td>\n",
       "    </tr>\n",
       "    <tr>\n",
       "      <th>50%</th>\n",
       "      <td>308.040000</td>\n",
       "      <td>2.000000</td>\n",
       "      <td>0.000000</td>\n",
       "      <td>0.000000</td>\n",
       "      <td>9.000000</td>\n",
       "      <td>94.000000</td>\n",
       "      <td>1.000000</td>\n",
       "      <td>3.050000</td>\n",
       "      <td>0.210000</td>\n",
       "      <td>328.950000</td>\n",
       "      <td>746.840000</td>\n",
       "      <td>2.347440</td>\n",
       "      <td>48.866200</td>\n",
       "      <td>24.510000</td>\n",
       "    </tr>\n",
       "    <tr>\n",
       "      <th>75%</th>\n",
       "      <td>425.485000</td>\n",
       "      <td>4.000000</td>\n",
       "      <td>0.000000</td>\n",
       "      <td>0.000000</td>\n",
       "      <td>10.000000</td>\n",
       "      <td>98.000000</td>\n",
       "      <td>1.000000</td>\n",
       "      <td>4.070000</td>\n",
       "      <td>0.290000</td>\n",
       "      <td>440.825000</td>\n",
       "      <td>1021.515000</td>\n",
       "      <td>2.370020</td>\n",
       "      <td>48.878365</td>\n",
       "      <td>37.405000</td>\n",
       "    </tr>\n",
       "    <tr>\n",
       "      <th>max</th>\n",
       "      <td>798.540000</td>\n",
       "      <td>6.000000</td>\n",
       "      <td>1.000000</td>\n",
       "      <td>1.000000</td>\n",
       "      <td>10.000000</td>\n",
       "      <td>100.000000</td>\n",
       "      <td>5.000000</td>\n",
       "      <td>7.700000</td>\n",
       "      <td>1.150000</td>\n",
       "      <td>983.860000</td>\n",
       "      <td>1688.080000</td>\n",
       "      <td>2.438590</td>\n",
       "      <td>48.899450</td>\n",
       "      <td>100.000000</td>\n",
       "    </tr>\n",
       "  </tbody>\n",
       "</table>\n",
       "</div>"
      ],
      "text/plain": [
       "             Price  person_capacity        multi          biz  \\\n",
       "count  2931.000000      2931.000000  2931.000000  2931.000000   \n",
       "mean    343.514906         2.845786     0.223132     0.247356   \n",
       "std     149.795011         1.146637     0.416417     0.431549   \n",
       "min      92.740000         2.000000     0.000000     0.000000   \n",
       "25%     235.695000         2.000000     0.000000     0.000000   \n",
       "50%     308.040000         2.000000     0.000000     0.000000   \n",
       "75%     425.485000         4.000000     0.000000     0.000000   \n",
       "max     798.540000         6.000000     1.000000     1.000000   \n",
       "\n",
       "       cleanliness_rating  guest_satisfaction_overall     bedrooms  \\\n",
       "count         2931.000000                 2931.000000  2931.000000   \n",
       "mean             9.234391                   91.745138     0.915387   \n",
       "std              0.998971                    9.016568     0.594920   \n",
       "min              2.000000                   20.000000     0.000000   \n",
       "25%              9.000000                   88.000000     1.000000   \n",
       "50%              9.000000                   94.000000     1.000000   \n",
       "75%             10.000000                   98.000000     1.000000   \n",
       "max             10.000000                  100.000000     5.000000   \n",
       "\n",
       "       city_distance  metro_distance  attractivity_index   rest_index  \\\n",
       "count    2931.000000     2931.000000         2931.000000  2931.000000   \n",
       "mean        3.037707        0.228731          361.889345   802.651528   \n",
       "std         1.461674        0.125454          145.854997   280.163650   \n",
       "min         0.070000        0.000000          116.300000   258.670000   \n",
       "25%         1.890000        0.140000          255.575000   577.775000   \n",
       "50%         3.050000        0.210000          328.950000   746.840000   \n",
       "75%         4.070000        0.290000          440.825000  1021.515000   \n",
       "max         7.700000        1.150000          983.860000  1688.080000   \n",
       "\n",
       "               lng          lat  attractivity_index_standard  \n",
       "count  2931.000000  2931.000000                  2931.000000  \n",
       "mean      2.344094    48.864292                    28.308066  \n",
       "std       0.034359     0.017708                    16.812159  \n",
       "min       2.247880    48.820280                     0.000000  \n",
       "25%       2.323450    48.851560                    16.055000  \n",
       "50%       2.347440    48.866200                    24.510000  \n",
       "75%       2.370020    48.878365                    37.405000  \n",
       "max       2.438590    48.899450                   100.000000  "
      ]
     },
     "execution_count": 27,
     "metadata": {},
     "output_type": "execute_result"
    }
   ],
   "source": [
    "paris_df.describe()"
   ]
  },
  {
   "cell_type": "code",
   "execution_count": 28,
   "id": "348f13b3",
   "metadata": {},
   "outputs": [],
   "source": [
    "# Price binning\n",
    "# Ref: https://www.geeksforgeeks.org/floor-ceil-function-python/\n",
    "paris_df['Price_bin'] = pd.cut(paris_df.Price/72.9, range(0, 13), labels=False) \n",
    "# print(paris_df['Price_bin'].head(9), paris_df['Price'].head(9))"
   ]
  },
  {
   "cell_type": "code",
   "execution_count": 29,
   "id": "a42adbef",
   "metadata": {},
   "outputs": [],
   "source": [
    "#  City distance binning\n",
    "# Ref: https://www.geeksforgeeks.org/floor-ceil-function-python/\n",
    "paris_df['city_distance_bin'] = pd.cut(((paris_df.city_distance/1.59)+1), range(0, 8), labels=False) \n",
    "# print(paris_df['city_distance_bin'].head(9), paris_df['city_distance'].head(9))"
   ]
  },
  {
   "cell_type": "code",
   "execution_count": 30,
   "id": "d93647a0",
   "metadata": {},
   "outputs": [],
   "source": [
    "#  Attractivity Index Standard binning\n",
    "# Ref: https://www.geeksforgeeks.org/floor-ceil-function-python/\n",
    "paris_df['attractivity_index_standard_bin'] = pd.cut((paris_df.attractivity_index_standard/10), range(0, 13), labels=False) "
   ]
  },
  {
   "cell_type": "code",
   "execution_count": 31,
   "id": "f3f7af62",
   "metadata": {},
   "outputs": [
    {
     "data": {
      "text/plain": [
       "False    2531\n",
       "True      400\n",
       "Name: host_is_superhost, dtype: int64"
      ]
     },
     "execution_count": 31,
     "metadata": {},
     "output_type": "execute_result"
    }
   ],
   "source": [
    "paris_df.host_is_superhost.value_counts()"
   ]
  },
  {
   "cell_type": "code",
   "execution_count": 32,
   "id": "65bdcc2a",
   "metadata": {},
   "outputs": [
    {
     "data": {
      "text/plain": [
       "room_type        host_is_superhost\n",
       "Entire home/apt  False                365.32\n",
       "                 True                 390.48\n",
       "Private room     False                281.94\n",
       "                 True                 294.05\n",
       "Shared room      False                136.82\n",
       "                 True                 183.46\n",
       "Name: Price, dtype: float64"
      ]
     },
     "execution_count": 32,
     "metadata": {},
     "output_type": "execute_result"
    }
   ],
   "source": [
    "paris_df.groupby(['room_type', 'host_is_superhost'])['Price'].mean().round(2)\n",
    "# We notice that superhost listings are priced higher than non superhosts."
   ]
  },
  {
   "cell_type": "code",
   "execution_count": 33,
   "id": "27b40eeb",
   "metadata": {},
   "outputs": [
    {
     "data": {
      "text/plain": [
       "room_type        host_is_superhost\n",
       "Entire home/apt  False                1877\n",
       "                 True                  268\n",
       "Private room     False                 610\n",
       "                 True                  129\n",
       "Shared room      False                  44\n",
       "                 True                    3\n",
       "Name: Price, dtype: int64"
      ]
     },
     "execution_count": 33,
     "metadata": {},
     "output_type": "execute_result"
    }
   ],
   "source": [
    "paris_df.groupby(['room_type', 'host_is_superhost'])['Price'].count()\n"
   ]
  },
  {
   "cell_type": "code",
   "execution_count": 34,
   "id": "0fdf7285",
   "metadata": {},
   "outputs": [
    {
     "data": {
      "text/plain": [
       "Price_bin  host_is_superhost\n",
       "1          False                124.60\n",
       "           True                 132.53\n",
       "2          False                185.71\n",
       "           True                 190.98\n",
       "3          False                256.45\n",
       "           True                 256.28\n",
       "4          False                326.35\n",
       "           True                 327.35\n",
       "5          False                396.51\n",
       "           True                 389.74\n",
       "6          False                471.35\n",
       "           True                 473.83\n",
       "7          False                546.08\n",
       "           True                 551.71\n",
       "8          False                617.95\n",
       "           True                 616.20\n",
       "9          False                689.18\n",
       "           True                 680.95\n",
       "10         False                761.64\n",
       "           True                 755.48\n",
       "Name: Price, dtype: float64"
      ]
     },
     "execution_count": 34,
     "metadata": {},
     "output_type": "execute_result"
    }
   ],
   "source": [
    "paris_df.groupby(['Price_bin', 'host_is_superhost'])['Price'].mean().round(2)"
   ]
  },
  {
   "cell_type": "code",
   "execution_count": 35,
   "id": "d06fe852",
   "metadata": {},
   "outputs": [
    {
     "data": {
      "text/html": [
       "<div>\n",
       "<style scoped>\n",
       "    .dataframe tbody tr th:only-of-type {\n",
       "        vertical-align: middle;\n",
       "    }\n",
       "\n",
       "    .dataframe tbody tr th {\n",
       "        vertical-align: top;\n",
       "    }\n",
       "\n",
       "    .dataframe thead th {\n",
       "        text-align: right;\n",
       "    }\n",
       "</style>\n",
       "<table border=\"1\" class=\"dataframe\">\n",
       "  <thead>\n",
       "    <tr style=\"text-align: right;\">\n",
       "      <th>host_is_superhost</th>\n",
       "      <th>False</th>\n",
       "      <th>True</th>\n",
       "      <th>All</th>\n",
       "    </tr>\n",
       "    <tr>\n",
       "      <th>city_distance_bin</th>\n",
       "      <th></th>\n",
       "      <th></th>\n",
       "      <th></th>\n",
       "    </tr>\n",
       "  </thead>\n",
       "  <tbody>\n",
       "    <tr>\n",
       "      <th>1</th>\n",
       "      <td>408.565963</td>\n",
       "      <td>422.352500</td>\n",
       "      <td>410.354486</td>\n",
       "    </tr>\n",
       "    <tr>\n",
       "      <th>2</th>\n",
       "      <td>341.594890</td>\n",
       "      <td>353.199776</td>\n",
       "      <td>343.157759</td>\n",
       "    </tr>\n",
       "    <tr>\n",
       "      <th>3</th>\n",
       "      <td>302.744653</td>\n",
       "      <td>325.780839</td>\n",
       "      <td>305.921292</td>\n",
       "    </tr>\n",
       "    <tr>\n",
       "      <th>4</th>\n",
       "      <td>352.107888</td>\n",
       "      <td>378.628378</td>\n",
       "      <td>355.515035</td>\n",
       "    </tr>\n",
       "    <tr>\n",
       "      <th>5</th>\n",
       "      <td>314.917857</td>\n",
       "      <td>342.730000</td>\n",
       "      <td>321.870893</td>\n",
       "    </tr>\n",
       "    <tr>\n",
       "      <th>All</th>\n",
       "      <td>341.252434</td>\n",
       "      <td>357.830700</td>\n",
       "      <td>343.514906</td>\n",
       "    </tr>\n",
       "  </tbody>\n",
       "</table>\n",
       "</div>"
      ],
      "text/plain": [
       "host_is_superhost       False        True         All\n",
       "city_distance_bin                                    \n",
       "1                  408.565963  422.352500  410.354486\n",
       "2                  341.594890  353.199776  343.157759\n",
       "3                  302.744653  325.780839  305.921292\n",
       "4                  352.107888  378.628378  355.515035\n",
       "5                  314.917857  342.730000  321.870893\n",
       "All                341.252434  357.830700  343.514906"
      ]
     },
     "execution_count": 35,
     "metadata": {},
     "output_type": "execute_result"
    }
   ],
   "source": [
    "#city_distance\n",
    "import numpy as np\n",
    "pd.pivot_table(paris_df, values='Price', index=['city_distance_bin'], \n",
    "columns=['host_is_superhost'], aggfunc=np.mean, margins=True)"
   ]
  },
  {
   "cell_type": "code",
   "execution_count": 36,
   "id": "74621bad",
   "metadata": {},
   "outputs": [
    {
     "data": {
      "text/plain": [
       "Text(0, 0.5, 'Avg. Price')"
      ]
     },
     "execution_count": 36,
     "metadata": {},
     "output_type": "execute_result"
    },
    {
     "data": {
      "image/png": "[encoded data removed]",
      "text/plain": [
       "<Figure size 640x480 with 1 Axes>"
      ]
     },
     "metadata": {},
     "output_type": "display_data"
    }
   ],
   "source": [
    "#Pandas version - bar chart\n",
    "ax = paris_df.groupby(['attractivity_index_standard_bin']).mean().Price\n",
    "fig = ax.plot(kind='bar')\n",
    "fig.set_ylabel('Avg. Price')"
   ]
  },
  {
   "cell_type": "code",
   "execution_count": 37,
   "id": "8f34270e",
   "metadata": {},
   "outputs": [
    {
     "data": {
      "text/plain": [
       "Text(0, 0.5, 'Avg. Price')"
      ]
     },
     "execution_count": 37,
     "metadata": {},
     "output_type": "execute_result"
    },
    {
     "data": {
      "image/png": "[encoded data removed]",
      "text/plain": [
       "<Figure size 640x480 with 1 Axes>"
      ]
     },
     "metadata": {},
     "output_type": "display_data"
    }
   ],
   "source": [
    "#Pandas version - bar chart\n",
    "ax = paris_df.groupby(['city_distance_bin']).mean().Price\n",
    "fig = ax.plot(kind='bar')\n",
    "fig.set_ylabel('Avg. Price')"
   ]
  },
  {
   "cell_type": "code",
   "execution_count": 38,
   "id": "c71ab3f8",
   "metadata": {},
   "outputs": [
    {
     "data": {
      "text/html": [
       "<div>\n",
       "<style scoped>\n",
       "    .dataframe tbody tr th:only-of-type {\n",
       "        vertical-align: middle;\n",
       "    }\n",
       "\n",
       "    .dataframe tbody tr th {\n",
       "        vertical-align: top;\n",
       "    }\n",
       "\n",
       "    .dataframe thead th {\n",
       "        text-align: right;\n",
       "    }\n",
       "</style>\n",
       "<table border=\"1\" class=\"dataframe\">\n",
       "  <thead>\n",
       "    <tr style=\"text-align: right;\">\n",
       "      <th></th>\n",
       "      <th>Price</th>\n",
       "      <th>room_type</th>\n",
       "      <th>room_shared</th>\n",
       "      <th>room_private</th>\n",
       "      <th>person_capacity</th>\n",
       "      <th>host_is_superhost</th>\n",
       "      <th>multi</th>\n",
       "      <th>biz</th>\n",
       "      <th>cleanliness_rating</th>\n",
       "      <th>guest_satisfaction_overall</th>\n",
       "      <th>...</th>\n",
       "      <th>city_distance</th>\n",
       "      <th>metro_distance</th>\n",
       "      <th>attractivity_index</th>\n",
       "      <th>rest_index</th>\n",
       "      <th>lng</th>\n",
       "      <th>lat</th>\n",
       "      <th>attractivity_index_standard</th>\n",
       "      <th>Price_bin</th>\n",
       "      <th>city_distance_bin</th>\n",
       "      <th>attractivity_index_standard_bin</th>\n",
       "    </tr>\n",
       "  </thead>\n",
       "  <tbody>\n",
       "    <tr>\n",
       "      <th>0</th>\n",
       "      <td>296.16</td>\n",
       "      <td>Private room</td>\n",
       "      <td>False</td>\n",
       "      <td>True</td>\n",
       "      <td>2</td>\n",
       "      <td>True</td>\n",
       "      <td>0</td>\n",
       "      <td>0</td>\n",
       "      <td>10</td>\n",
       "      <td>97</td>\n",
       "      <td>...</td>\n",
       "      <td>0.7</td>\n",
       "      <td>0.19</td>\n",
       "      <td>518.48</td>\n",
       "      <td>1218.66</td>\n",
       "      <td>2.35385</td>\n",
       "      <td>48.86282</td>\n",
       "      <td>46.36</td>\n",
       "      <td>4</td>\n",
       "      <td>1</td>\n",
       "      <td>4.0</td>\n",
       "    </tr>\n",
       "    <tr>\n",
       "      <th>1</th>\n",
       "      <td>288.24</td>\n",
       "      <td>Private room</td>\n",
       "      <td>False</td>\n",
       "      <td>True</td>\n",
       "      <td>2</td>\n",
       "      <td>True</td>\n",
       "      <td>0</td>\n",
       "      <td>0</td>\n",
       "      <td>10</td>\n",
       "      <td>97</td>\n",
       "      <td>...</td>\n",
       "      <td>2.1</td>\n",
       "      <td>0.11</td>\n",
       "      <td>873.22</td>\n",
       "      <td>1000.54</td>\n",
       "      <td>2.32436</td>\n",
       "      <td>48.85902</td>\n",
       "      <td>87.25</td>\n",
       "      <td>3</td>\n",
       "      <td>2</td>\n",
       "      <td>8.0</td>\n",
       "    </tr>\n",
       "    <tr>\n",
       "      <th>2</th>\n",
       "      <td>211.34</td>\n",
       "      <td>Private room</td>\n",
       "      <td>False</td>\n",
       "      <td>True</td>\n",
       "      <td>2</td>\n",
       "      <td>False</td>\n",
       "      <td>0</td>\n",
       "      <td>0</td>\n",
       "      <td>10</td>\n",
       "      <td>94</td>\n",
       "      <td>...</td>\n",
       "      <td>3.3</td>\n",
       "      <td>0.23</td>\n",
       "      <td>444.56</td>\n",
       "      <td>902.85</td>\n",
       "      <td>2.31714</td>\n",
       "      <td>48.87475</td>\n",
       "      <td>37.84</td>\n",
       "      <td>2</td>\n",
       "      <td>3</td>\n",
       "      <td>3.0</td>\n",
       "    </tr>\n",
       "  </tbody>\n",
       "</table>\n",
       "<p>3 rows × 21 columns</p>\n",
       "</div>"
      ],
      "text/plain": [
       "    Price     room_type  room_shared  room_private  person_capacity  \\\n",
       "0  296.16  Private room        False          True                2   \n",
       "1  288.24  Private room        False          True                2   \n",
       "2  211.34  Private room        False          True                2   \n",
       "\n",
       "   host_is_superhost  multi  biz  cleanliness_rating  \\\n",
       "0               True      0    0                  10   \n",
       "1               True      0    0                  10   \n",
       "2              False      0    0                  10   \n",
       "\n",
       "   guest_satisfaction_overall  ...  city_distance  metro_distance  \\\n",
       "0                          97  ...            0.7            0.19   \n",
       "1                          97  ...            2.1            0.11   \n",
       "2                          94  ...            3.3            0.23   \n",
       "\n",
       "   attractivity_index  rest_index      lng       lat  \\\n",
       "0              518.48     1218.66  2.35385  48.86282   \n",
       "1              873.22     1000.54  2.32436  48.85902   \n",
       "2              444.56      902.85  2.31714  48.87475   \n",
       "\n",
       "   attractivity_index_standard  Price_bin  city_distance_bin  \\\n",
       "0                        46.36          4                  1   \n",
       "1                        87.25          3                  2   \n",
       "2                        37.84          2                  3   \n",
       "\n",
       "   attractivity_index_standard_bin  \n",
       "0                              4.0  \n",
       "1                              8.0  \n",
       "2                              3.0  \n",
       "\n",
       "[3 rows x 21 columns]"
      ]
     },
     "execution_count": 38,
     "metadata": {},
     "output_type": "execute_result"
    }
   ],
   "source": [
    "paris_df.head(3)"
   ]
  },
  {
   "cell_type": "markdown",
   "id": "882dcc91",
   "metadata": {},
   "source": [
    "# Finding out the best predictor variables"
   ]
  },
  {
   "cell_type": "markdown",
   "id": "1e8edd9a",
   "metadata": {},
   "source": [
    "# Backward elimination"
   ]
  },
  {
   "cell_type": "code",
   "execution_count": 39,
   "id": "d64916f0",
   "metadata": {},
   "outputs": [],
   "source": [
    "paris_df.room_shared = paris_df.room_shared.astype('category')\n",
    "paris_df.room_private = paris_df.room_private.astype('category')\n",
    "paris_df.host_is_superhost = paris_df.host_is_superhost.astype('category')"
   ]
  },
  {
   "cell_type": "code",
   "execution_count": 40,
   "id": "0e432d92",
   "metadata": {},
   "outputs": [],
   "source": [
    "predictors = ['room_type', 'room_shared', 'room_private', 'person_capacity', 'host_is_superhost', 'multi', 'biz', 'cleanliness_rating', \n",
    "              'guest_satisfaction_overall', 'bedrooms', 'city_distance', 'metro_distance', 'lng', 'lat', 'attractivity_index_standard']\n",
    "outcome = 'Price'"
   ]
  },
  {
   "cell_type": "code",
   "execution_count": 41,
   "id": "503b42e9",
   "metadata": {},
   "outputs": [],
   "source": [
    "X = pd.get_dummies(paris_df[predictors], drop_first=True)\n",
    "y = paris_df[outcome]"
   ]
  },
  {
   "cell_type": "code",
   "execution_count": 42,
   "id": "77717693",
   "metadata": {},
   "outputs": [
    {
     "data": {
      "text/plain": [
       "Index(['person_capacity', 'multi', 'biz', 'cleanliness_rating',\n",
       "       'guest_satisfaction_overall', 'bedrooms', 'city_distance',\n",
       "       'metro_distance', 'lng', 'lat', 'attractivity_index_standard',\n",
       "       'room_type_Private room', 'room_type_Shared room', 'room_shared_True',\n",
       "       'room_private_True', 'host_is_superhost_True'],\n",
       "      dtype='object')"
      ]
     },
     "execution_count": 42,
     "metadata": {},
     "output_type": "execute_result"
    }
   ],
   "source": [
    "X.columns"
   ]
  },
  {
   "cell_type": "code",
   "execution_count": 43,
   "id": "9c293e04",
   "metadata": {},
   "outputs": [
    {
     "name": "stdout",
     "output_type": "stream",
     "text": [
      "                                 OLS Regression Results                                \n",
      "=======================================================================================\n",
      "Dep. Variable:                  Price   R-squared (uncentered):                   0.923\n",
      "Model:                            OLS   Adj. R-squared (uncentered):              0.922\n",
      "Method:                 Least Squares   F-statistic:                              2896.\n",
      "Date:                Wed, 05 Apr 2023   Prob (F-statistic):                        0.00\n",
      "Time:                        17:40:02   Log-Likelihood:                         -17781.\n",
      "No. Observations:                2931   AIC:                                  3.559e+04\n",
      "Df Residuals:                    2919   BIC:                                  3.566e+04\n",
      "Df Model:                          12                                                  \n",
      "Covariance Type:            nonrobust                                                  \n",
      "===============================================================================================\n",
      "                                  coef    std err          t      P>|t|      [0.025      0.975]\n",
      "-----------------------------------------------------------------------------------------------\n",
      "person_capacity                46.7466      2.113     22.126      0.000      42.604      50.889\n",
      "multi                          30.3570      5.102      5.950      0.000      20.354      40.360\n",
      "biz                            66.7371      5.061     13.185      0.000      56.813      76.661\n",
      "cleanliness_rating             13.4945      1.994      6.766      0.000       9.584      17.405\n",
      "bedrooms                       54.3865      3.858     14.098      0.000      46.822      61.951\n",
      "city_distance                 -11.1222      2.595     -4.285      0.000     -16.211      -6.033\n",
      "lng                          -822.8084     95.183     -8.644      0.000   -1009.442    -636.175\n",
      "lat                            39.4858      4.793      8.239      0.000      30.088      48.883\n",
      "attractivity_index_standard     2.1952      0.200     10.987      0.000       1.803       2.587\n",
      "room_type_Private room        -31.4156      2.585    -12.151      0.000     -36.485     -26.346\n",
      "room_type_Shared room        -124.6621      7.854    -15.873      0.000    -140.062    -109.262\n",
      "room_shared_True             -124.6621      7.854    -15.873      0.000    -140.062    -109.262\n",
      "room_private_True             -31.4156      2.585    -12.151      0.000     -36.485     -26.346\n",
      "host_is_superhost_True         26.2355      5.833      4.498      0.000      14.798      37.673\n",
      "==============================================================================\n",
      "Omnibus:                      362.333   Durbin-Watson:                   1.840\n",
      "Prob(Omnibus):                  0.000   Jarque-Bera (JB):              594.435\n",
      "Skew:                           0.848   Prob(JB):                    8.32e-130\n",
      "Kurtosis:                       4.411   Cond. No.                     2.32e+18\n",
      "==============================================================================\n",
      "\n",
      "Notes:\n",
      "[1] R² is computed without centering (uncentered) since the model does not contain a constant.\n",
      "[2] Standard Errors assume that the covariance matrix of the errors is correctly specified.\n",
      "[3] The smallest eigenvalue is 1.84e-30. This might indicate that there are\n",
      "strong multicollinearity problems or that the design matrix is singular.\n",
      "      person_capacity  multi  biz  cleanliness_rating  bedrooms  \\\n",
      "0                   2      0    0                  10         1   \n",
      "1                   2      0    0                  10         1   \n",
      "2                   2      0    0                  10         1   \n",
      "3                   2      0    1                   9         1   \n",
      "4                   4      0    0                   7         1   \n",
      "...               ...    ...  ...                 ...       ...   \n",
      "3125                4      0    0                  10         1   \n",
      "3126                2      1    0                   9         1   \n",
      "3127                6      0    0                  10         3   \n",
      "3128                2      0    0                   9         1   \n",
      "3129                2      0    0                  10         1   \n",
      "\n",
      "      city_distance      lng       lat  attractivity_index_standard  \\\n",
      "0              0.70  2.35385  48.86282                        46.36   \n",
      "1              2.10  2.32436  48.85902                        87.25   \n",
      "2              3.30  2.31714  48.87475                        37.84   \n",
      "3              0.55  2.35600  48.86100                        49.08   \n",
      "4              1.20  2.35915  48.86648                        33.50   \n",
      "...             ...      ...       ...                          ...   \n",
      "3125           3.56  2.40050  48.85093                         7.98   \n",
      "3126           4.21  2.40100  48.87700                         6.50   \n",
      "3127           4.31  2.39334  48.88463                         7.14   \n",
      "3128           2.89  2.38200  48.87400                        13.70   \n",
      "3129           3.47  2.39992  48.85886                         9.72   \n",
      "\n",
      "      room_type_Private room  room_type_Shared room  room_shared_True  \\\n",
      "0                          1                      0                 0   \n",
      "1                          1                      0                 0   \n",
      "2                          1                      0                 0   \n",
      "3                          0                      0                 0   \n",
      "4                          0                      0                 0   \n",
      "...                      ...                    ...               ...   \n",
      "3125                       0                      0                 0   \n",
      "3126                       0                      0                 0   \n",
      "3127                       0                      0                 0   \n",
      "3128                       0                      0                 0   \n",
      "3129                       0                      0                 0   \n",
      "\n",
      "      room_private_True  host_is_superhost_True  \n",
      "0                     1                       1  \n",
      "1                     1                       1  \n",
      "2                     1                       0  \n",
      "3                     0                       0  \n",
      "4                     0                       0  \n",
      "...                 ...                     ...  \n",
      "3125                  0                       0  \n",
      "3126                  0                       0  \n",
      "3127                  0                       1  \n",
      "3128                  0                       1  \n",
      "3129                  0                       0  \n",
      "\n",
      "[2931 rows x 14 columns]\n"
     ]
    }
   ],
   "source": [
    "# Ref: ChatGPT: https://chat.openai.com/chat\n",
    "import pandas as pd\n",
    "import statsmodels.api as sm\n",
    "\n",
    "\n",
    "def backward_elimination(X, y, significance_level):\n",
    "    num_vars = len(X.columns)\n",
    "    for i in range(0, num_vars):\n",
    "        regressor = sm.OLS(y, X).fit()\n",
    "        max_pvalue = max(regressor.pvalues)\n",
    "        if max_pvalue > significance_level:\n",
    "            for j in range(0, num_vars - i):\n",
    "                if (regressor.pvalues[j] == max_pvalue):\n",
    "                    X = X.drop(X.columns[j], axis=1)\n",
    "    print(regressor.summary())\n",
    "    return X\n",
    "\n",
    "# set your significance level\n",
    "sig_level = 0.05\n",
    "\n",
    "# call the backward_elimination function and print the final set of independent variables\n",
    "X_opt = backward_elimination(X, y, sig_level)\n",
    "print(X_opt)"
   ]
  },
  {
   "cell_type": "code",
   "execution_count": 44,
   "id": "2b0a9b1d",
   "metadata": {},
   "outputs": [
    {
     "data": {
      "text/plain": [
       "Index(['person_capacity', 'multi', 'biz', 'cleanliness_rating',\n",
       "       'guest_satisfaction_overall', 'bedrooms', 'city_distance',\n",
       "       'metro_distance', 'lng', 'lat', 'attractivity_index_standard',\n",
       "       'room_type_Private room', 'room_type_Shared room', 'room_shared_True',\n",
       "       'room_private_True', 'host_is_superhost_True'],\n",
       "      dtype='object')"
      ]
     },
     "execution_count": 44,
     "metadata": {},
     "output_type": "execute_result"
    }
   ],
   "source": [
    "X.columns"
   ]
  },
  {
   "cell_type": "code",
   "execution_count": 45,
   "id": "24ea41a6",
   "metadata": {},
   "outputs": [],
   "source": [
    "# The predictor variables will be: ['person_capacity', 'multi', 'biz', 'cleanliness_rating',\n",
    "#       'bedrooms', 'city_distance', 'lng', 'lat', 'attractivity_index_standard',\n",
    "#       'room_type_Private room', 'room_type_Shared room', 'room_shared_True',\n",
    "#       'room_private_True', 'host_is_superhost_True']\n",
    "\n",
    "# We won't be using: ['guest_satisfaction_overall', 'metro_distance']"
   ]
  },
  {
   "cell_type": "code",
   "execution_count": 46,
   "id": "a9f6d8d3",
   "metadata": {},
   "outputs": [],
   "source": [
    "#parisformodel_df = X"
   ]
  },
  {
   "cell_type": "code",
   "execution_count": 47,
   "id": "38e01b74",
   "metadata": {},
   "outputs": [],
   "source": [
    "#parisformodel_df"
   ]
  },
  {
   "cell_type": "markdown",
   "id": "a0018729",
   "metadata": {},
   "source": [
    "# RUNNING ALGORITHMS #"
   ]
  },
  {
   "cell_type": "markdown",
   "id": "58daf64c",
   "metadata": {},
   "source": [
    "## Linear regression"
   ]
  },
  {
   "cell_type": "code",
   "execution_count": 48,
   "id": "9ecc6956",
   "metadata": {},
   "outputs": [],
   "source": [
    "import math\n",
    "from sklearn.model_selection import train_test_split\n",
    "from sklearn.linear_model import LinearRegression\n",
    "from sklearn.metrics import accuracy_score, roc_curve, auc\n",
    "import matplotlib.pylab as plt\n",
    "from dmba import regressionSummary, classificationSummary\n",
    "from dmba import liftChart, gainsChart"
   ]
  },
  {
   "cell_type": "code",
   "execution_count": 49,
   "id": "9c4b4635",
   "metadata": {},
   "outputs": [],
   "source": [
    "# Split the data into training and validation\n",
    "train_X, valid_X, train_y, valid_y = train_test_split(X, y, test_size=0.4, random_state=1)"
   ]
  },
  {
   "cell_type": "code",
   "execution_count": 50,
   "id": "b02c7766",
   "metadata": {},
   "outputs": [
    {
     "data": {
      "text/plain": [
       "LinearRegression()"
      ]
     },
     "execution_count": 50,
     "metadata": {},
     "output_type": "execute_result"
    }
   ],
   "source": [
    "# Built the Linear Model based on the training data\n",
    "reg = LinearRegression()\n",
    "reg.fit(train_X, train_y)"
   ]
  },
  {
   "cell_type": "code",
   "execution_count": 51,
   "id": "c223a93b",
   "metadata": {},
   "outputs": [
    {
     "name": "stdout",
     "output_type": "stream",
     "text": [
      "\n",
      "Regression statistics\n",
      "\n",
      "                      Mean Error (ME) : -0.0000\n",
      "       Root Mean Squared Error (RMSE) : 106.8565\n",
      "            Mean Absolute Error (MAE) : 81.3135\n",
      "          Mean Percentage Error (MPE) : -8.9484\n",
      "Mean Absolute Percentage Error (MAPE) : 26.2080\n"
     ]
    }
   ],
   "source": [
    "# Evaluate Perfomance on training set (60% of the records). \n",
    "regressionSummary(train_y, reg.predict(train_X))\n",
    "# The mean absolute error is of $81. "
   ]
  },
  {
   "cell_type": "code",
   "execution_count": 53,
   "id": "aa889e32",
   "metadata": {},
   "outputs": [
    {
     "data": {
      "text/plain": [
       "Text(0.5, 0, 'Training')"
      ]
     },
     "execution_count": 53,
     "metadata": {},
     "output_type": "execute_result"
    },
    {
     "data": {
      "image/png": "[encoded data removed]",
      "text/plain": [
       "<Figure size 640x480 with 1 Axes>"
      ]
     },
     "metadata": {},
     "output_type": "display_data"
    }
   ],
   "source": [
    "# Evaluate Perfomance. Residual analysis\n",
    "# training \n",
    "train_e = train_y - reg.predict(train_X)\n",
    "fig, ax = plt.subplots()\n",
    "ax = train_e.hist()\n",
    "ax.set_xlabel('Training')"
   ]
  },
  {
   "cell_type": "code",
   "execution_count": 54,
   "id": "9942c49f",
   "metadata": {},
   "outputs": [
    {
     "data": {
      "text/plain": [
       "Text(0.5, 0, 'Validation')"
      ]
     },
     "execution_count": 54,
     "metadata": {},
     "output_type": "execute_result"
    },
    {
     "data": {
      "image/png": "[encoded data removed]",
      "text/plain": [
       "<Figure size 640x480 with 1 Axes>"
      ]
     },
     "metadata": {},
     "output_type": "display_data"
    }
   ],
   "source": [
    "# validation residuals\n",
    "valid_e = valid_y - reg.predict(valid_X)\n",
    "fig, ax = plt.subplots()\n",
    "ax = valid_e.hist()\n",
    "ax.set_xlabel('Validation')"
   ]
  },
  {
   "cell_type": "code",
   "execution_count": 55,
   "id": "44d4aac2",
   "metadata": {},
   "outputs": [],
   "source": [
    "# The residual of both sets of data are similar in shape, but not totally normally distributed."
   ]
  },
  {
   "cell_type": "markdown",
   "id": "a2d72107",
   "metadata": {},
   "source": [
    "# K-NN"
   ]
  },
  {
   "cell_type": "code",
   "execution_count": 56,
   "id": "d5f70135",
   "metadata": {},
   "outputs": [],
   "source": [
    "# We now want to classify the overall satisfaction (categorically binned) expected for a new listing. If the marketing team\n",
    "# can predict the overall review of this new listing, they could promote it on their webpage before even having reviews. \n",
    "# The new listing has a price of 530, distance from the city of 1.9 KM, a distance to the metro of 0.17, and \n",
    "# cleanliness score of 8. We want to find out the expected classifier for this listing."
   ]
  },
  {
   "cell_type": "code",
   "execution_count": 57,
   "id": "6386320e",
   "metadata": {},
   "outputs": [],
   "source": [
    "parisKnn_df = pd.read_csv(\"paris_weekdays_knn.csv\")"
   ]
  },
  {
   "cell_type": "code",
   "execution_count": 58,
   "id": "31c4d98f",
   "metadata": {},
   "outputs": [],
   "source": [
    "# Binning \"guest_satisfaction_overall\"\n",
    "parisKnn_df['guest_satisfaction_overall_bin2']=pd.cut(parisKnn_df.guest_satisfaction_overall,bins=[0,25,40,65,81,100],labels=['Very_Unsatisfied','Unsatisfied','Neutral','Satisfied','Very_Satisfied'])"
   ]
  },
  {
   "cell_type": "code",
   "execution_count": 59,
   "id": "c66a37af",
   "metadata": {},
   "outputs": [],
   "source": [
    "#Adding index\n",
    "parisKnn_df['Number'] = parisKnn_df.index + 1"
   ]
  },
  {
   "cell_type": "code",
   "execution_count": 60,
   "id": "455bc328",
   "metadata": {},
   "outputs": [
    {
     "name": "stdout",
     "output_type": "stream",
     "text": [
      "(1762, 7) (1176, 7)\n"
     ]
    }
   ],
   "source": [
    "#Split the data into training (60%) and testing (40%)\n",
    "trainData, validData = train_test_split(parisKnn_df, \n",
    "test_size=0.4, random_state=0)\n",
    "print(trainData.shape, validData.shape)"
   ]
  },
  {
   "cell_type": "code",
   "execution_count": 61,
   "id": "d74906d2",
   "metadata": {},
   "outputs": [
    {
     "data": {
      "text/plain": [
       "StandardScaler()"
      ]
     },
     "execution_count": 61,
     "metadata": {},
     "output_type": "execute_result"
    }
   ],
   "source": [
    "# Normalizing the data\n",
    "from sklearn import preprocessing\n",
    "from sklearn.neighbors import NearestNeighbors, KNeighborsClassifier\n",
    "scaler = preprocessing.StandardScaler()\n",
    "scaler.fit(trainData[['Price', 'city_distance', 'metro_distance', 'cleanliness_rating']])"
   ]
  },
  {
   "cell_type": "code",
   "execution_count": 62,
   "id": "d90c122a",
   "metadata": {},
   "outputs": [
    {
     "data": {
      "text/html": [
       "<div>\n",
       "<style scoped>\n",
       "    .dataframe tbody tr th:only-of-type {\n",
       "        vertical-align: middle;\n",
       "    }\n",
       "\n",
       "    .dataframe tbody tr th {\n",
       "        vertical-align: top;\n",
       "    }\n",
       "\n",
       "    .dataframe thead th {\n",
       "        text-align: right;\n",
       "    }\n",
       "</style>\n",
       "<table border=\"1\" class=\"dataframe\">\n",
       "  <thead>\n",
       "    <tr style=\"text-align: right;\">\n",
       "      <th></th>\n",
       "      <th>Price</th>\n",
       "      <th>city_distance</th>\n",
       "      <th>metro_distance</th>\n",
       "      <th>cleanliness_rating</th>\n",
       "    </tr>\n",
       "  </thead>\n",
       "  <tbody>\n",
       "    <tr>\n",
       "      <th>0</th>\n",
       "      <td>530</td>\n",
       "      <td>1.9</td>\n",
       "      <td>0.17</td>\n",
       "      <td>8</td>\n",
       "    </tr>\n",
       "  </tbody>\n",
       "</table>\n",
       "</div>"
      ],
      "text/plain": [
       "   Price  city_distance  metro_distance  cleanliness_rating\n",
       "0    530            1.9            0.17                   8"
      ]
     },
     "execution_count": 62,
     "metadata": {},
     "output_type": "execute_result"
    }
   ],
   "source": [
    "newParisData = pd.DataFrame([{'Price': 530, 'city_distance': 1.9, 'metro_distance': 0.17, 'cleanliness_rating': 8}])\n",
    "newParisData"
   ]
  },
  {
   "cell_type": "code",
   "execution_count": 63,
   "id": "fcf2da85",
   "metadata": {},
   "outputs": [],
   "source": [
    "# Normalization of the full dataset\n",
    "parisNorm = pd.concat([pd.DataFrame(scaler.transform(parisKnn_df[['Price', 'city_distance', 'metro_distance', 'cleanliness_rating']]), \n",
    "columns=['zPrice', 'zcity_distance', 'zmetro_distance', 'zcleanliness_rating']),\n",
    "parisKnn_df[['guest_satisfaction_overall_bin2', 'Number']]], axis=1)\n",
    "trainNorm = parisNorm.iloc[trainData.index]\n",
    "validNorm = parisNorm.iloc[validData.index]\n",
    "newParisDataNorm = pd.DataFrame(scaler.transform(newParisData), columns=['Price', 'city_distance', 'metro_distance', 'cleanliness_rating'])"
   ]
  },
  {
   "cell_type": "code",
   "execution_count": 64,
   "id": "23d3d7c9",
   "metadata": {},
   "outputs": [
    {
     "data": {
      "text/html": [
       "<div>\n",
       "<style scoped>\n",
       "    .dataframe tbody tr th:only-of-type {\n",
       "        vertical-align: middle;\n",
       "    }\n",
       "\n",
       "    .dataframe tbody tr th {\n",
       "        vertical-align: top;\n",
       "    }\n",
       "\n",
       "    .dataframe thead th {\n",
       "        text-align: right;\n",
       "    }\n",
       "</style>\n",
       "<table border=\"1\" class=\"dataframe\">\n",
       "  <thead>\n",
       "    <tr style=\"text-align: right;\">\n",
       "      <th></th>\n",
       "      <th>Price</th>\n",
       "      <th>city_distance</th>\n",
       "      <th>metro_distance</th>\n",
       "      <th>cleanliness_rating</th>\n",
       "    </tr>\n",
       "  </thead>\n",
       "  <tbody>\n",
       "    <tr>\n",
       "      <th>0</th>\n",
       "      <td>1.249544</td>\n",
       "      <td>-0.807188</td>\n",
       "      <td>-0.485576</td>\n",
       "      <td>-1.184043</td>\n",
       "    </tr>\n",
       "  </tbody>\n",
       "</table>\n",
       "</div>"
      ],
      "text/plain": [
       "      Price  city_distance  metro_distance  cleanliness_rating\n",
       "0  1.249544      -0.807188       -0.485576           -1.184043"
      ]
     },
     "execution_count": 64,
     "metadata": {},
     "output_type": "execute_result"
    }
   ],
   "source": [
    "newParisDataNorm"
   ]
  },
  {
   "cell_type": "code",
   "execution_count": 65,
   "id": "d0731543",
   "metadata": {},
   "outputs": [
    {
     "name": "stdout",
     "output_type": "stream",
     "text": [
      "       zPrice  zcity_distance  zmetro_distance  zcleanliness_rating  \\\n",
      "294  1.508973       -0.833526        -0.702660            -1.184043   \n",
      "494  0.982219       -0.862184        -0.239054            -1.184043   \n",
      "218  1.795590       -1.025290        -0.538560            -1.184043   \n",
      "698  0.615040       -0.830666        -0.593770            -1.184043   \n",
      "313  1.485734       -0.199841        -0.418050            -1.184043   \n",
      "466  1.037993       -1.427792        -0.225883            -1.184043   \n",
      "620  0.752926       -0.765961         0.088962            -1.184043   \n",
      "664  0.675462       -0.769278         0.077416            -1.184043   \n",
      "756  0.520534       -1.233146        -0.317882            -1.184043   \n",
      "\n",
      "    guest_satisfaction_overall_bin2  Number  \n",
      "294                  Very_Satisfied     295  \n",
      "494                       Satisfied     495  \n",
      "218                  Very_Satisfied     219  \n",
      "698                       Satisfied     699  \n",
      "313                       Satisfied     314  \n",
      "466                  Very_Satisfied     467  \n",
      "620                  Very_Satisfied     621  \n",
      "664                  Very_Satisfied     665  \n",
      "756                  Very_Satisfied     757  \n"
     ]
    },
    {
     "name": "stderr",
     "output_type": "stream",
     "text": [
      "C:\\Users\\Esteban\\anaconda3\\lib\\site-packages\\sklearn\\base.py:493: FutureWarning: The feature names should match those that were passed during fit. Starting version 1.2, an error will be raised.\n",
      "Feature names unseen at fit time:\n",
      "- Price\n",
      "- city_distance\n",
      "- cleanliness_rating\n",
      "- metro_distance\n",
      "Feature names seen at fit time, yet now missing:\n",
      "- zPrice\n",
      "- zcity_distance\n",
      "- zcleanliness_rating\n",
      "- zmetro_distance\n",
      "\n",
      "  warnings.warn(message, FutureWarning)\n"
     ]
    }
   ],
   "source": [
    "#Use k-nearest neighbor against the normalized training data with K=9\n",
    "knn = NearestNeighbors(n_neighbors=9)\n",
    "knn.fit(trainNorm[['zPrice', 'zcity_distance', 'zmetro_distance', 'zcleanliness_rating']])\n",
    "distances, indices = knn.kneighbors(newParisDataNorm)\n",
    "print(trainNorm.iloc[indices[0], :]) \n",
    "# With K=9 it is expected that the classification of this new listing would be \"Very Satisfied\" in \"overal guest satisfaction\". \n",
    "# But we still don't know which is the best K to use."
   ]
  },
  {
   "cell_type": "markdown",
   "id": "7fda2f2d",
   "metadata": {},
   "source": [
    "# Measuring the accuracy of different k values on validation set"
   ]
  },
  {
   "cell_type": "code",
   "execution_count": 66,
   "id": "ac7ef21a",
   "metadata": {},
   "outputs": [],
   "source": [
    "train_X = trainNorm[['zPrice', 'zcity_distance', 'zmetro_distance', 'zcleanliness_rating']]\n",
    "train_y = trainNorm['guest_satisfaction_overall_bin2']\n",
    "valid_X = validNorm[['zPrice', 'zcity_distance', 'zmetro_distance', 'zcleanliness_rating']]\n",
    "valid_y = validNorm['guest_satisfaction_overall_bin2']"
   ]
  },
  {
   "cell_type": "code",
   "execution_count": 67,
   "id": "985c5ec9",
   "metadata": {},
   "outputs": [
    {
     "name": "stderr",
     "output_type": "stream",
     "text": [
      "C:\\Users\\Esteban\\anaconda3\\lib\\site-packages\\sklearn\\neighbors\\_classification.py:228: FutureWarning: Unlike other reduction functions (e.g. `skew`, `kurtosis`), the default behavior of `mode` typically preserves the axis it acts along. In SciPy 1.11.0, this behavior will change: the default value of `keepdims` will become False, the `axis` over which the statistic is taken will be eliminated, and the value None will no longer be accepted. Set `keepdims` to True or False to avoid this warning.\n",
      "  mode, _ = stats.mode(_y[neigh_ind, k], axis=1)\n",
      "C:\\Users\\Esteban\\anaconda3\\lib\\site-packages\\sklearn\\neighbors\\_classification.py:228: FutureWarning: Unlike other reduction functions (e.g. `skew`, `kurtosis`), the default behavior of `mode` typically preserves the axis it acts along. In SciPy 1.11.0, this behavior will change: the default value of `keepdims` will become False, the `axis` over which the statistic is taken will be eliminated, and the value None will no longer be accepted. Set `keepdims` to True or False to avoid this warning.\n",
      "  mode, _ = stats.mode(_y[neigh_ind, k], axis=1)\n",
      "C:\\Users\\Esteban\\anaconda3\\lib\\site-packages\\sklearn\\neighbors\\_classification.py:228: FutureWarning: Unlike other reduction functions (e.g. `skew`, `kurtosis`), the default behavior of `mode` typically preserves the axis it acts along. In SciPy 1.11.0, this behavior will change: the default value of `keepdims` will become False, the `axis` over which the statistic is taken will be eliminated, and the value None will no longer be accepted. Set `keepdims` to True or False to avoid this warning.\n",
      "  mode, _ = stats.mode(_y[neigh_ind, k], axis=1)\n",
      "C:\\Users\\Esteban\\anaconda3\\lib\\site-packages\\sklearn\\neighbors\\_classification.py:228: FutureWarning: Unlike other reduction functions (e.g. `skew`, `kurtosis`), the default behavior of `mode` typically preserves the axis it acts along. In SciPy 1.11.0, this behavior will change: the default value of `keepdims` will become False, the `axis` over which the statistic is taken will be eliminated, and the value None will no longer be accepted. Set `keepdims` to True or False to avoid this warning.\n",
      "  mode, _ = stats.mode(_y[neigh_ind, k], axis=1)\n",
      "C:\\Users\\Esteban\\anaconda3\\lib\\site-packages\\sklearn\\neighbors\\_classification.py:228: FutureWarning: Unlike other reduction functions (e.g. `skew`, `kurtosis`), the default behavior of `mode` typically preserves the axis it acts along. In SciPy 1.11.0, this behavior will change: the default value of `keepdims` will become False, the `axis` over which the statistic is taken will be eliminated, and the value None will no longer be accepted. Set `keepdims` to True or False to avoid this warning.\n",
      "  mode, _ = stats.mode(_y[neigh_ind, k], axis=1)\n",
      "C:\\Users\\Esteban\\anaconda3\\lib\\site-packages\\sklearn\\neighbors\\_classification.py:228: FutureWarning: Unlike other reduction functions (e.g. `skew`, `kurtosis`), the default behavior of `mode` typically preserves the axis it acts along. In SciPy 1.11.0, this behavior will change: the default value of `keepdims` will become False, the `axis` over which the statistic is taken will be eliminated, and the value None will no longer be accepted. Set `keepdims` to True or False to avoid this warning.\n",
      "  mode, _ = stats.mode(_y[neigh_ind, k], axis=1)\n",
      "C:\\Users\\Esteban\\anaconda3\\lib\\site-packages\\sklearn\\neighbors\\_classification.py:228: FutureWarning: Unlike other reduction functions (e.g. `skew`, `kurtosis`), the default behavior of `mode` typically preserves the axis it acts along. In SciPy 1.11.0, this behavior will change: the default value of `keepdims` will become False, the `axis` over which the statistic is taken will be eliminated, and the value None will no longer be accepted. Set `keepdims` to True or False to avoid this warning.\n",
      "  mode, _ = stats.mode(_y[neigh_ind, k], axis=1)\n",
      "C:\\Users\\Esteban\\anaconda3\\lib\\site-packages\\sklearn\\neighbors\\_classification.py:228: FutureWarning: Unlike other reduction functions (e.g. `skew`, `kurtosis`), the default behavior of `mode` typically preserves the axis it acts along. In SciPy 1.11.0, this behavior will change: the default value of `keepdims` will become False, the `axis` over which the statistic is taken will be eliminated, and the value None will no longer be accepted. Set `keepdims` to True or False to avoid this warning.\n",
      "  mode, _ = stats.mode(_y[neigh_ind, k], axis=1)\n",
      "C:\\Users\\Esteban\\anaconda3\\lib\\site-packages\\sklearn\\neighbors\\_classification.py:228: FutureWarning: Unlike other reduction functions (e.g. `skew`, `kurtosis`), the default behavior of `mode` typically preserves the axis it acts along. In SciPy 1.11.0, this behavior will change: the default value of `keepdims` will become False, the `axis` over which the statistic is taken will be eliminated, and the value None will no longer be accepted. Set `keepdims` to True or False to avoid this warning.\n",
      "  mode, _ = stats.mode(_y[neigh_ind, k], axis=1)\n",
      "C:\\Users\\Esteban\\anaconda3\\lib\\site-packages\\sklearn\\neighbors\\_classification.py:228: FutureWarning: Unlike other reduction functions (e.g. `skew`, `kurtosis`), the default behavior of `mode` typically preserves the axis it acts along. In SciPy 1.11.0, this behavior will change: the default value of `keepdims` will become False, the `axis` over which the statistic is taken will be eliminated, and the value None will no longer be accepted. Set `keepdims` to True or False to avoid this warning.\n",
      "  mode, _ = stats.mode(_y[neigh_ind, k], axis=1)\n",
      "C:\\Users\\Esteban\\anaconda3\\lib\\site-packages\\sklearn\\neighbors\\_classification.py:228: FutureWarning: Unlike other reduction functions (e.g. `skew`, `kurtosis`), the default behavior of `mode` typically preserves the axis it acts along. In SciPy 1.11.0, this behavior will change: the default value of `keepdims` will become False, the `axis` over which the statistic is taken will be eliminated, and the value None will no longer be accepted. Set `keepdims` to True or False to avoid this warning.\n",
      "  mode, _ = stats.mode(_y[neigh_ind, k], axis=1)\n",
      "C:\\Users\\Esteban\\anaconda3\\lib\\site-packages\\sklearn\\neighbors\\_classification.py:228: FutureWarning: Unlike other reduction functions (e.g. `skew`, `kurtosis`), the default behavior of `mode` typically preserves the axis it acts along. In SciPy 1.11.0, this behavior will change: the default value of `keepdims` will become False, the `axis` over which the statistic is taken will be eliminated, and the value None will no longer be accepted. Set `keepdims` to True or False to avoid this warning.\n",
      "  mode, _ = stats.mode(_y[neigh_ind, k], axis=1)\n",
      "C:\\Users\\Esteban\\anaconda3\\lib\\site-packages\\sklearn\\neighbors\\_classification.py:228: FutureWarning: Unlike other reduction functions (e.g. `skew`, `kurtosis`), the default behavior of `mode` typically preserves the axis it acts along. In SciPy 1.11.0, this behavior will change: the default value of `keepdims` will become False, the `axis` over which the statistic is taken will be eliminated, and the value None will no longer be accepted. Set `keepdims` to True or False to avoid this warning.\n",
      "  mode, _ = stats.mode(_y[neigh_ind, k], axis=1)\n",
      "C:\\Users\\Esteban\\anaconda3\\lib\\site-packages\\sklearn\\neighbors\\_classification.py:228: FutureWarning: Unlike other reduction functions (e.g. `skew`, `kurtosis`), the default behavior of `mode` typically preserves the axis it acts along. In SciPy 1.11.0, this behavior will change: the default value of `keepdims` will become False, the `axis` over which the statistic is taken will be eliminated, and the value None will no longer be accepted. Set `keepdims` to True or False to avoid this warning.\n",
      "  mode, _ = stats.mode(_y[neigh_ind, k], axis=1)\n",
      "C:\\Users\\Esteban\\anaconda3\\lib\\site-packages\\sklearn\\neighbors\\_classification.py:228: FutureWarning: Unlike other reduction functions (e.g. `skew`, `kurtosis`), the default behavior of `mode` typically preserves the axis it acts along. In SciPy 1.11.0, this behavior will change: the default value of `keepdims` will become False, the `axis` over which the statistic is taken will be eliminated, and the value None will no longer be accepted. Set `keepdims` to True or False to avoid this warning.\n",
      "  mode, _ = stats.mode(_y[neigh_ind, k], axis=1)\n",
      "C:\\Users\\Esteban\\anaconda3\\lib\\site-packages\\sklearn\\neighbors\\_classification.py:228: FutureWarning: Unlike other reduction functions (e.g. `skew`, `kurtosis`), the default behavior of `mode` typically preserves the axis it acts along. In SciPy 1.11.0, this behavior will change: the default value of `keepdims` will become False, the `axis` over which the statistic is taken will be eliminated, and the value None will no longer be accepted. Set `keepdims` to True or False to avoid this warning.\n",
      "  mode, _ = stats.mode(_y[neigh_ind, k], axis=1)\n",
      "C:\\Users\\Esteban\\anaconda3\\lib\\site-packages\\sklearn\\neighbors\\_classification.py:228: FutureWarning: Unlike other reduction functions (e.g. `skew`, `kurtosis`), the default behavior of `mode` typically preserves the axis it acts along. In SciPy 1.11.0, this behavior will change: the default value of `keepdims` will become False, the `axis` over which the statistic is taken will be eliminated, and the value None will no longer be accepted. Set `keepdims` to True or False to avoid this warning.\n",
      "  mode, _ = stats.mode(_y[neigh_ind, k], axis=1)\n",
      "C:\\Users\\Esteban\\anaconda3\\lib\\site-packages\\sklearn\\neighbors\\_classification.py:228: FutureWarning: Unlike other reduction functions (e.g. `skew`, `kurtosis`), the default behavior of `mode` typically preserves the axis it acts along. In SciPy 1.11.0, this behavior will change: the default value of `keepdims` will become False, the `axis` over which the statistic is taken will be eliminated, and the value None will no longer be accepted. Set `keepdims` to True or False to avoid this warning.\n",
      "  mode, _ = stats.mode(_y[neigh_ind, k], axis=1)\n",
      "C:\\Users\\Esteban\\anaconda3\\lib\\site-packages\\sklearn\\neighbors\\_classification.py:228: FutureWarning: Unlike other reduction functions (e.g. `skew`, `kurtosis`), the default behavior of `mode` typically preserves the axis it acts along. In SciPy 1.11.0, this behavior will change: the default value of `keepdims` will become False, the `axis` over which the statistic is taken will be eliminated, and the value None will no longer be accepted. Set `keepdims` to True or False to avoid this warning.\n",
      "  mode, _ = stats.mode(_y[neigh_ind, k], axis=1)\n",
      "C:\\Users\\Esteban\\anaconda3\\lib\\site-packages\\sklearn\\neighbors\\_classification.py:228: FutureWarning: Unlike other reduction functions (e.g. `skew`, `kurtosis`), the default behavior of `mode` typically preserves the axis it acts along. In SciPy 1.11.0, this behavior will change: the default value of `keepdims` will become False, the `axis` over which the statistic is taken will be eliminated, and the value None will no longer be accepted. Set `keepdims` to True or False to avoid this warning.\n",
      "  mode, _ = stats.mode(_y[neigh_ind, k], axis=1)\n",
      "C:\\Users\\Esteban\\anaconda3\\lib\\site-packages\\sklearn\\neighbors\\_classification.py:228: FutureWarning: Unlike other reduction functions (e.g. `skew`, `kurtosis`), the default behavior of `mode` typically preserves the axis it acts along. In SciPy 1.11.0, this behavior will change: the default value of `keepdims` will become False, the `axis` over which the statistic is taken will be eliminated, and the value None will no longer be accepted. Set `keepdims` to True or False to avoid this warning.\n",
      "  mode, _ = stats.mode(_y[neigh_ind, k], axis=1)\n",
      "C:\\Users\\Esteban\\anaconda3\\lib\\site-packages\\sklearn\\neighbors\\_classification.py:228: FutureWarning: Unlike other reduction functions (e.g. `skew`, `kurtosis`), the default behavior of `mode` typically preserves the axis it acts along. In SciPy 1.11.0, this behavior will change: the default value of `keepdims` will become False, the `axis` over which the statistic is taken will be eliminated, and the value None will no longer be accepted. Set `keepdims` to True or False to avoid this warning.\n",
      "  mode, _ = stats.mode(_y[neigh_ind, k], axis=1)\n",
      "C:\\Users\\Esteban\\anaconda3\\lib\\site-packages\\sklearn\\neighbors\\_classification.py:228: FutureWarning: Unlike other reduction functions (e.g. `skew`, `kurtosis`), the default behavior of `mode` typically preserves the axis it acts along. In SciPy 1.11.0, this behavior will change: the default value of `keepdims` will become False, the `axis` over which the statistic is taken will be eliminated, and the value None will no longer be accepted. Set `keepdims` to True or False to avoid this warning.\n",
      "  mode, _ = stats.mode(_y[neigh_ind, k], axis=1)\n",
      "C:\\Users\\Esteban\\anaconda3\\lib\\site-packages\\sklearn\\neighbors\\_classification.py:228: FutureWarning: Unlike other reduction functions (e.g. `skew`, `kurtosis`), the default behavior of `mode` typically preserves the axis it acts along. In SciPy 1.11.0, this behavior will change: the default value of `keepdims` will become False, the `axis` over which the statistic is taken will be eliminated, and the value None will no longer be accepted. Set `keepdims` to True or False to avoid this warning.\n",
      "  mode, _ = stats.mode(_y[neigh_ind, k], axis=1)\n",
      "C:\\Users\\Esteban\\anaconda3\\lib\\site-packages\\sklearn\\neighbors\\_classification.py:228: FutureWarning: Unlike other reduction functions (e.g. `skew`, `kurtosis`), the default behavior of `mode` typically preserves the axis it acts along. In SciPy 1.11.0, this behavior will change: the default value of `keepdims` will become False, the `axis` over which the statistic is taken will be eliminated, and the value None will no longer be accepted. Set `keepdims` to True or False to avoid this warning.\n",
      "  mode, _ = stats.mode(_y[neigh_ind, k], axis=1)\n",
      "C:\\Users\\Esteban\\anaconda3\\lib\\site-packages\\sklearn\\neighbors\\_classification.py:228: FutureWarning: Unlike other reduction functions (e.g. `skew`, `kurtosis`), the default behavior of `mode` typically preserves the axis it acts along. In SciPy 1.11.0, this behavior will change: the default value of `keepdims` will become False, the `axis` over which the statistic is taken will be eliminated, and the value None will no longer be accepted. Set `keepdims` to True or False to avoid this warning.\n",
      "  mode, _ = stats.mode(_y[neigh_ind, k], axis=1)\n",
      "C:\\Users\\Esteban\\anaconda3\\lib\\site-packages\\sklearn\\neighbors\\_classification.py:228: FutureWarning: Unlike other reduction functions (e.g. `skew`, `kurtosis`), the default behavior of `mode` typically preserves the axis it acts along. In SciPy 1.11.0, this behavior will change: the default value of `keepdims` will become False, the `axis` over which the statistic is taken will be eliminated, and the value None will no longer be accepted. Set `keepdims` to True or False to avoid this warning.\n",
      "  mode, _ = stats.mode(_y[neigh_ind, k], axis=1)\n",
      "C:\\Users\\Esteban\\anaconda3\\lib\\site-packages\\sklearn\\neighbors\\_classification.py:228: FutureWarning: Unlike other reduction functions (e.g. `skew`, `kurtosis`), the default behavior of `mode` typically preserves the axis it acts along. In SciPy 1.11.0, this behavior will change: the default value of `keepdims` will become False, the `axis` over which the statistic is taken will be eliminated, and the value None will no longer be accepted. Set `keepdims` to True or False to avoid this warning.\n",
      "  mode, _ = stats.mode(_y[neigh_ind, k], axis=1)\n",
      "C:\\Users\\Esteban\\anaconda3\\lib\\site-packages\\sklearn\\neighbors\\_classification.py:228: FutureWarning: Unlike other reduction functions (e.g. `skew`, `kurtosis`), the default behavior of `mode` typically preserves the axis it acts along. In SciPy 1.11.0, this behavior will change: the default value of `keepdims` will become False, the `axis` over which the statistic is taken will be eliminated, and the value None will no longer be accepted. Set `keepdims` to True or False to avoid this warning.\n",
      "  mode, _ = stats.mode(_y[neigh_ind, k], axis=1)\n",
      "C:\\Users\\Esteban\\anaconda3\\lib\\site-packages\\sklearn\\neighbors\\_classification.py:228: FutureWarning: Unlike other reduction functions (e.g. `skew`, `kurtosis`), the default behavior of `mode` typically preserves the axis it acts along. In SciPy 1.11.0, this behavior will change: the default value of `keepdims` will become False, the `axis` over which the statistic is taken will be eliminated, and the value None will no longer be accepted. Set `keepdims` to True or False to avoid this warning.\n",
      "  mode, _ = stats.mode(_y[neigh_ind, k], axis=1)\n",
      "C:\\Users\\Esteban\\anaconda3\\lib\\site-packages\\sklearn\\neighbors\\_classification.py:228: FutureWarning: Unlike other reduction functions (e.g. `skew`, `kurtosis`), the default behavior of `mode` typically preserves the axis it acts along. In SciPy 1.11.0, this behavior will change: the default value of `keepdims` will become False, the `axis` over which the statistic is taken will be eliminated, and the value None will no longer be accepted. Set `keepdims` to True or False to avoid this warning.\n",
      "  mode, _ = stats.mode(_y[neigh_ind, k], axis=1)\n",
      "C:\\Users\\Esteban\\anaconda3\\lib\\site-packages\\sklearn\\neighbors\\_classification.py:228: FutureWarning: Unlike other reduction functions (e.g. `skew`, `kurtosis`), the default behavior of `mode` typically preserves the axis it acts along. In SciPy 1.11.0, this behavior will change: the default value of `keepdims` will become False, the `axis` over which the statistic is taken will be eliminated, and the value None will no longer be accepted. Set `keepdims` to True or False to avoid this warning.\n",
      "  mode, _ = stats.mode(_y[neigh_ind, k], axis=1)\n",
      "C:\\Users\\Esteban\\anaconda3\\lib\\site-packages\\sklearn\\neighbors\\_classification.py:228: FutureWarning: Unlike other reduction functions (e.g. `skew`, `kurtosis`), the default behavior of `mode` typically preserves the axis it acts along. In SciPy 1.11.0, this behavior will change: the default value of `keepdims` will become False, the `axis` over which the statistic is taken will be eliminated, and the value None will no longer be accepted. Set `keepdims` to True or False to avoid this warning.\n",
      "  mode, _ = stats.mode(_y[neigh_ind, k], axis=1)\n",
      "C:\\Users\\Esteban\\anaconda3\\lib\\site-packages\\sklearn\\neighbors\\_classification.py:228: FutureWarning: Unlike other reduction functions (e.g. `skew`, `kurtosis`), the default behavior of `mode` typically preserves the axis it acts along. In SciPy 1.11.0, this behavior will change: the default value of `keepdims` will become False, the `axis` over which the statistic is taken will be eliminated, and the value None will no longer be accepted. Set `keepdims` to True or False to avoid this warning.\n",
      "  mode, _ = stats.mode(_y[neigh_ind, k], axis=1)\n",
      "C:\\Users\\Esteban\\anaconda3\\lib\\site-packages\\sklearn\\neighbors\\_classification.py:228: FutureWarning: Unlike other reduction functions (e.g. `skew`, `kurtosis`), the default behavior of `mode` typically preserves the axis it acts along. In SciPy 1.11.0, this behavior will change: the default value of `keepdims` will become False, the `axis` over which the statistic is taken will be eliminated, and the value None will no longer be accepted. Set `keepdims` to True or False to avoid this warning.\n",
      "  mode, _ = stats.mode(_y[neigh_ind, k], axis=1)\n",
      "C:\\Users\\Esteban\\anaconda3\\lib\\site-packages\\sklearn\\neighbors\\_classification.py:228: FutureWarning: Unlike other reduction functions (e.g. `skew`, `kurtosis`), the default behavior of `mode` typically preserves the axis it acts along. In SciPy 1.11.0, this behavior will change: the default value of `keepdims` will become False, the `axis` over which the statistic is taken will be eliminated, and the value None will no longer be accepted. Set `keepdims` to True or False to avoid this warning.\n",
      "  mode, _ = stats.mode(_y[neigh_ind, k], axis=1)\n",
      "C:\\Users\\Esteban\\anaconda3\\lib\\site-packages\\sklearn\\neighbors\\_classification.py:228: FutureWarning: Unlike other reduction functions (e.g. `skew`, `kurtosis`), the default behavior of `mode` typically preserves the axis it acts along. In SciPy 1.11.0, this behavior will change: the default value of `keepdims` will become False, the `axis` over which the statistic is taken will be eliminated, and the value None will no longer be accepted. Set `keepdims` to True or False to avoid this warning.\n",
      "  mode, _ = stats.mode(_y[neigh_ind, k], axis=1)\n",
      "C:\\Users\\Esteban\\anaconda3\\lib\\site-packages\\sklearn\\neighbors\\_classification.py:228: FutureWarning: Unlike other reduction functions (e.g. `skew`, `kurtosis`), the default behavior of `mode` typically preserves the axis it acts along. In SciPy 1.11.0, this behavior will change: the default value of `keepdims` will become False, the `axis` over which the statistic is taken will be eliminated, and the value None will no longer be accepted. Set `keepdims` to True or False to avoid this warning.\n",
      "  mode, _ = stats.mode(_y[neigh_ind, k], axis=1)\n",
      "C:\\Users\\Esteban\\anaconda3\\lib\\site-packages\\sklearn\\neighbors\\_classification.py:228: FutureWarning: Unlike other reduction functions (e.g. `skew`, `kurtosis`), the default behavior of `mode` typically preserves the axis it acts along. In SciPy 1.11.0, this behavior will change: the default value of `keepdims` will become False, the `axis` over which the statistic is taken will be eliminated, and the value None will no longer be accepted. Set `keepdims` to True or False to avoid this warning.\n",
      "  mode, _ = stats.mode(_y[neigh_ind, k], axis=1)\n",
      "C:\\Users\\Esteban\\anaconda3\\lib\\site-packages\\sklearn\\neighbors\\_classification.py:228: FutureWarning: Unlike other reduction functions (e.g. `skew`, `kurtosis`), the default behavior of `mode` typically preserves the axis it acts along. In SciPy 1.11.0, this behavior will change: the default value of `keepdims` will become False, the `axis` over which the statistic is taken will be eliminated, and the value None will no longer be accepted. Set `keepdims` to True or False to avoid this warning.\n",
      "  mode, _ = stats.mode(_y[neigh_ind, k], axis=1)\n",
      "C:\\Users\\Esteban\\anaconda3\\lib\\site-packages\\sklearn\\neighbors\\_classification.py:228: FutureWarning: Unlike other reduction functions (e.g. `skew`, `kurtosis`), the default behavior of `mode` typically preserves the axis it acts along. In SciPy 1.11.0, this behavior will change: the default value of `keepdims` will become False, the `axis` over which the statistic is taken will be eliminated, and the value None will no longer be accepted. Set `keepdims` to True or False to avoid this warning.\n",
      "  mode, _ = stats.mode(_y[neigh_ind, k], axis=1)\n",
      "C:\\Users\\Esteban\\anaconda3\\lib\\site-packages\\sklearn\\neighbors\\_classification.py:228: FutureWarning: Unlike other reduction functions (e.g. `skew`, `kurtosis`), the default behavior of `mode` typically preserves the axis it acts along. In SciPy 1.11.0, this behavior will change: the default value of `keepdims` will become False, the `axis` over which the statistic is taken will be eliminated, and the value None will no longer be accepted. Set `keepdims` to True or False to avoid this warning.\n",
      "  mode, _ = stats.mode(_y[neigh_ind, k], axis=1)\n",
      "C:\\Users\\Esteban\\anaconda3\\lib\\site-packages\\sklearn\\neighbors\\_classification.py:228: FutureWarning: Unlike other reduction functions (e.g. `skew`, `kurtosis`), the default behavior of `mode` typically preserves the axis it acts along. In SciPy 1.11.0, this behavior will change: the default value of `keepdims` will become False, the `axis` over which the statistic is taken will be eliminated, and the value None will no longer be accepted. Set `keepdims` to True or False to avoid this warning.\n",
      "  mode, _ = stats.mode(_y[neigh_ind, k], axis=1)\n",
      "C:\\Users\\Esteban\\anaconda3\\lib\\site-packages\\sklearn\\neighbors\\_classification.py:228: FutureWarning: Unlike other reduction functions (e.g. `skew`, `kurtosis`), the default behavior of `mode` typically preserves the axis it acts along. In SciPy 1.11.0, this behavior will change: the default value of `keepdims` will become False, the `axis` over which the statistic is taken will be eliminated, and the value None will no longer be accepted. Set `keepdims` to True or False to avoid this warning.\n",
      "  mode, _ = stats.mode(_y[neigh_ind, k], axis=1)\n",
      "C:\\Users\\Esteban\\anaconda3\\lib\\site-packages\\sklearn\\neighbors\\_classification.py:228: FutureWarning: Unlike other reduction functions (e.g. `skew`, `kurtosis`), the default behavior of `mode` typically preserves the axis it acts along. In SciPy 1.11.0, this behavior will change: the default value of `keepdims` will become False, the `axis` over which the statistic is taken will be eliminated, and the value None will no longer be accepted. Set `keepdims` to True or False to avoid this warning.\n",
      "  mode, _ = stats.mode(_y[neigh_ind, k], axis=1)\n",
      "C:\\Users\\Esteban\\anaconda3\\lib\\site-packages\\sklearn\\neighbors\\_classification.py:228: FutureWarning: Unlike other reduction functions (e.g. `skew`, `kurtosis`), the default behavior of `mode` typically preserves the axis it acts along. In SciPy 1.11.0, this behavior will change: the default value of `keepdims` will become False, the `axis` over which the statistic is taken will be eliminated, and the value None will no longer be accepted. Set `keepdims` to True or False to avoid this warning.\n",
      "  mode, _ = stats.mode(_y[neigh_ind, k], axis=1)\n",
      "C:\\Users\\Esteban\\anaconda3\\lib\\site-packages\\sklearn\\neighbors\\_classification.py:228: FutureWarning: Unlike other reduction functions (e.g. `skew`, `kurtosis`), the default behavior of `mode` typically preserves the axis it acts along. In SciPy 1.11.0, this behavior will change: the default value of `keepdims` will become False, the `axis` over which the statistic is taken will be eliminated, and the value None will no longer be accepted. Set `keepdims` to True or False to avoid this warning.\n",
      "  mode, _ = stats.mode(_y[neigh_ind, k], axis=1)\n",
      "C:\\Users\\Esteban\\anaconda3\\lib\\site-packages\\sklearn\\neighbors\\_classification.py:228: FutureWarning: Unlike other reduction functions (e.g. `skew`, `kurtosis`), the default behavior of `mode` typically preserves the axis it acts along. In SciPy 1.11.0, this behavior will change: the default value of `keepdims` will become False, the `axis` over which the statistic is taken will be eliminated, and the value None will no longer be accepted. Set `keepdims` to True or False to avoid this warning.\n",
      "  mode, _ = stats.mode(_y[neigh_ind, k], axis=1)\n",
      "C:\\Users\\Esteban\\anaconda3\\lib\\site-packages\\sklearn\\neighbors\\_classification.py:228: FutureWarning: Unlike other reduction functions (e.g. `skew`, `kurtosis`), the default behavior of `mode` typically preserves the axis it acts along. In SciPy 1.11.0, this behavior will change: the default value of `keepdims` will become False, the `axis` over which the statistic is taken will be eliminated, and the value None will no longer be accepted. Set `keepdims` to True or False to avoid this warning.\n",
      "  mode, _ = stats.mode(_y[neigh_ind, k], axis=1)\n"
     ]
    }
   ],
   "source": [
    "# Train a classifier for different values of k\n",
    "results = []\n",
    "for k in range(1, 50):\n",
    "    knn = KNeighborsClassifier(n_neighbors=k).fit(train_X, train_y)\n",
    "    results.append({\n",
    "        'k': k,\n",
    "        'accuracy': accuracy_score(valid_y, knn.predict(valid_X))\n",
    "    })"
   ]
  },
  {
   "cell_type": "code",
   "execution_count": 68,
   "id": "55b40250",
   "metadata": {},
   "outputs": [
    {
     "data": {
      "text/plain": [
       "'     k  accuracy\\n0    1  0.852891\\n1    2  0.791667\\n2    3  0.888605\\n3    4  0.876701\\n4    5  0.895408\\n5    6  0.891156\\n6    7  0.892007\\n7    8  0.895408\\n8    9  0.896259\\n9   10  0.898810\\n10  11  0.892857\\n11  12  0.894558\\n12  13  0.896259\\n13  14  0.892007\\n14  15  0.895408\\n15  16  0.894558\\n16  17  0.893707\\n17  18  0.894558\\n18  19  0.896259\\n19  20  0.896259\\n20  21  0.896259\\n21  22  0.895408\\n22  23  0.894558\\n23  24  0.893707\\n24  25  0.896259\\n25  26  0.893707\\n26  27  0.894558\\n27  28  0.894558\\n28  29  0.895408\\n29  30  0.895408\\n30  31  0.895408\\n31  32  0.895408\\n32  33  0.895408\\n33  34  0.896259\\n34  35  0.896259\\n35  36  0.895408\\n36  37  0.893707\\n37  38  0.893707\\n38  39  0.894558\\n39  40  0.896259\\n40  41  0.895408\\n41  42  0.894558\\n42  43  0.895408\\n43  44  0.896259\\n44  45  0.895408\\n45  46  0.892007\\n46  47  0.892857\\n47  48  0.892007\\n48  49  0.892007'"
      ]
     },
     "metadata": {},
     "output_type": "display_data"
    }
   ],
   "source": [
    "# Ref: https://www.geeksforgeeks.org/how-to-print-an-entire-pandas-dataframe-in-python/\n",
    "results2 = pd.DataFrame(results)\n",
    "display(results2.to_string())"
   ]
  },
  {
   "cell_type": "code",
   "execution_count": 69,
   "id": "d9c4b693",
   "metadata": {},
   "outputs": [
    {
     "name": "stdout",
     "output_type": "stream",
     "text": [
      "0.8988095238095238\n"
     ]
    }
   ],
   "source": [
    "print(results2.accuracy.max())\n",
    "# We have to choose the K value which has the maximum accuracy of 0.8988. The K for this would be K=10."
   ]
  },
  {
   "cell_type": "code",
   "execution_count": 70,
   "id": "4304b1cc",
   "metadata": {},
   "outputs": [
    {
     "name": "stdout",
     "output_type": "stream",
     "text": [
      "['Very_Satisfied']\n",
      "Distances [[0.31206493 0.33929718 0.36147198 0.36777777 0.50168641 0.52265311\n",
      "  0.54530241 0.59037417 0.6440898  0.65514583]]\n",
      "Indices [[317 294 478 494 411 458 638 218 698 313]]\n",
      "       zPrice  zcity_distance  zmetro_distance  zcleanliness_rating  \\\n",
      "317  1.485734       -0.696188        -0.656683            -1.184043   \n",
      "294  1.508973       -0.833526        -0.702660            -1.184043   \n",
      "478  1.036444       -1.009013        -0.274585            -1.184043   \n",
      "494  0.982219       -0.862184        -0.239054            -1.184043   \n",
      "411  1.191371       -1.107884        -0.882926            -1.184043   \n",
      "458  1.068979       -1.290622        -0.568368            -1.184043   \n",
      "638  0.728138       -0.960971        -0.528483            -1.184043   \n",
      "218  1.795590       -1.025290        -0.538560            -1.184043   \n",
      "698  0.615040       -0.830666        -0.593770            -1.184043   \n",
      "313  1.485734       -0.199841        -0.418050            -1.184043   \n",
      "\n",
      "    guest_satisfaction_overall_bin2  Number  \n",
      "317                  Very_Satisfied     318  \n",
      "294                  Very_Satisfied     295  \n",
      "478                     Unsatisfied     479  \n",
      "494                       Satisfied     495  \n",
      "411                  Very_Satisfied     412  \n",
      "458                       Satisfied     459  \n",
      "638                  Very_Satisfied     639  \n",
      "218                  Very_Satisfied     219  \n",
      "698                       Satisfied     699  \n",
      "313                       Satisfied     314  \n"
     ]
    },
    {
     "name": "stderr",
     "output_type": "stream",
     "text": [
      "C:\\Users\\Esteban\\anaconda3\\lib\\site-packages\\sklearn\\base.py:493: FutureWarning: The feature names should match those that were passed during fit. Starting version 1.2, an error will be raised.\n",
      "Feature names unseen at fit time:\n",
      "- Price\n",
      "- city_distance\n",
      "- cleanliness_rating\n",
      "- metro_distance\n",
      "Feature names seen at fit time, yet now missing:\n",
      "- zPrice\n",
      "- zcity_distance\n",
      "- zcleanliness_rating\n",
      "- zmetro_distance\n",
      "\n",
      "  warnings.warn(message, FutureWarning)\n",
      "C:\\Users\\Esteban\\anaconda3\\lib\\site-packages\\sklearn\\base.py:493: FutureWarning: The feature names should match those that were passed during fit. Starting version 1.2, an error will be raised.\n",
      "Feature names unseen at fit time:\n",
      "- Price\n",
      "- city_distance\n",
      "- cleanliness_rating\n",
      "- metro_distance\n",
      "Feature names seen at fit time, yet now missing:\n",
      "- zPrice\n",
      "- zcity_distance\n",
      "- zcleanliness_rating\n",
      "- zmetro_distance\n",
      "\n",
      "  warnings.warn(message, FutureWarning)\n",
      "C:\\Users\\Esteban\\anaconda3\\lib\\site-packages\\sklearn\\neighbors\\_classification.py:228: FutureWarning: Unlike other reduction functions (e.g. `skew`, `kurtosis`), the default behavior of `mode` typically preserves the axis it acts along. In SciPy 1.11.0, this behavior will change: the default value of `keepdims` will become False, the `axis` over which the statistic is taken will be eliminated, and the value None will no longer be accepted. Set `keepdims` to True or False to avoid this warning.\n",
      "  mode, _ = stats.mode(_y[neigh_ind, k], axis=1)\n"
     ]
    }
   ],
   "source": [
    "paris_X = parisNorm[['zPrice', 'zcity_distance', 'zmetro_distance', 'zcleanliness_rating']]\n",
    "paris_y = parisNorm['guest_satisfaction_overall_bin2']\n",
    "knn = KNeighborsClassifier(n_neighbors=10).fit(paris_X, paris_y)\n",
    "distances, indices = knn.kneighbors(newParisDataNorm)\n",
    "print(knn.predict(newParisDataNorm))\n",
    "print('Distances',distances)\n",
    "print('Indices', indices)\n",
    "print(parisNorm.iloc[indices[0], :])"
   ]
  },
  {
   "cell_type": "code",
   "execution_count": 71,
   "id": "5870603d",
   "metadata": {},
   "outputs": [],
   "source": [
    "# Conclusion: A new listing with Price of 530, distance from the city of 1.9 KM, a distance to the metro of 0.17, and \n",
    "# cleanliness score of 8 would have an expected classifier of \"Very Satisfied\" in overall guest satisfaction. "
   ]
  },
  {
   "cell_type": "markdown",
   "id": "795880a7",
   "metadata": {},
   "source": [
    "# CART"
   ]
  },
  {
   "cell_type": "code",
   "execution_count": 72,
   "id": "ec928c82",
   "metadata": {},
   "outputs": [],
   "source": [
    "# Using the same new listing as in Naive Bayes method, we want to test if a Classification and Regression Tree would also\n",
    "# classify this listing as a \"Very Satisfied\" guest."
   ]
  },
  {
   "cell_type": "code",
   "execution_count": 73,
   "id": "cecd892c",
   "metadata": {},
   "outputs": [
    {
     "data": {
      "text/html": [
       "<div>\n",
       "<style scoped>\n",
       "    .dataframe tbody tr th:only-of-type {\n",
       "        vertical-align: middle;\n",
       "    }\n",
       "\n",
       "    .dataframe tbody tr th {\n",
       "        vertical-align: top;\n",
       "    }\n",
       "\n",
       "    .dataframe thead th {\n",
       "        text-align: right;\n",
       "    }\n",
       "</style>\n",
       "<table border=\"1\" class=\"dataframe\">\n",
       "  <thead>\n",
       "    <tr style=\"text-align: right;\">\n",
       "      <th></th>\n",
       "      <th>Price</th>\n",
       "      <th>guest_satisfaction_overall</th>\n",
       "      <th>city_distance</th>\n",
       "      <th>metro_distance</th>\n",
       "      <th>cleanliness_rating</th>\n",
       "      <th>guest_satisfaction_overall_bin2</th>\n",
       "      <th>Number</th>\n",
       "    </tr>\n",
       "  </thead>\n",
       "  <tbody>\n",
       "    <tr>\n",
       "      <th>0</th>\n",
       "      <td>798.536676</td>\n",
       "      <td>86</td>\n",
       "      <td>2.336880</td>\n",
       "      <td>0.188163</td>\n",
       "      <td>10</td>\n",
       "      <td>Very_Satisfied</td>\n",
       "      <td>1</td>\n",
       "    </tr>\n",
       "    <tr>\n",
       "      <th>1</th>\n",
       "      <td>797.371610</td>\n",
       "      <td>97</td>\n",
       "      <td>3.364188</td>\n",
       "      <td>0.246136</td>\n",
       "      <td>10</td>\n",
       "      <td>Very_Satisfied</td>\n",
       "      <td>2</td>\n",
       "    </tr>\n",
       "    <tr>\n",
       "      <th>2</th>\n",
       "      <td>797.371610</td>\n",
       "      <td>92</td>\n",
       "      <td>1.476329</td>\n",
       "      <td>0.236090</td>\n",
       "      <td>10</td>\n",
       "      <td>Very_Satisfied</td>\n",
       "      <td>3</td>\n",
       "    </tr>\n",
       "    <tr>\n",
       "      <th>3</th>\n",
       "      <td>795.274490</td>\n",
       "      <td>50</td>\n",
       "      <td>2.029013</td>\n",
       "      <td>0.210486</td>\n",
       "      <td>7</td>\n",
       "      <td>Neutral</td>\n",
       "      <td>4</td>\n",
       "    </tr>\n",
       "    <tr>\n",
       "      <th>4</th>\n",
       "      <td>789.216143</td>\n",
       "      <td>82</td>\n",
       "      <td>1.035722</td>\n",
       "      <td>0.189733</td>\n",
       "      <td>8</td>\n",
       "      <td>Very_Satisfied</td>\n",
       "      <td>5</td>\n",
       "    </tr>\n",
       "    <tr>\n",
       "      <th>...</th>\n",
       "      <td>...</td>\n",
       "      <td>...</td>\n",
       "      <td>...</td>\n",
       "      <td>...</td>\n",
       "      <td>...</td>\n",
       "      <td>...</td>\n",
       "      <td>...</td>\n",
       "    </tr>\n",
       "    <tr>\n",
       "      <th>2933</th>\n",
       "      <td>97.632585</td>\n",
       "      <td>90</td>\n",
       "      <td>3.934853</td>\n",
       "      <td>0.255165</td>\n",
       "      <td>8</td>\n",
       "      <td>Very_Satisfied</td>\n",
       "      <td>2934</td>\n",
       "    </tr>\n",
       "    <tr>\n",
       "      <th>2934</th>\n",
       "      <td>97.632585</td>\n",
       "      <td>80</td>\n",
       "      <td>3.966733</td>\n",
       "      <td>0.279526</td>\n",
       "      <td>7</td>\n",
       "      <td>Satisfied</td>\n",
       "      <td>2935</td>\n",
       "    </tr>\n",
       "    <tr>\n",
       "      <th>2935</th>\n",
       "      <td>97.399571</td>\n",
       "      <td>90</td>\n",
       "      <td>4.394438</td>\n",
       "      <td>0.139683</td>\n",
       "      <td>9</td>\n",
       "      <td>Very_Satisfied</td>\n",
       "      <td>2936</td>\n",
       "    </tr>\n",
       "    <tr>\n",
       "      <th>2936</th>\n",
       "      <td>96.467518</td>\n",
       "      <td>92</td>\n",
       "      <td>4.306579</td>\n",
       "      <td>0.020260</td>\n",
       "      <td>8</td>\n",
       "      <td>Very_Satisfied</td>\n",
       "      <td>2937</td>\n",
       "    </tr>\n",
       "    <tr>\n",
       "      <th>2937</th>\n",
       "      <td>92.739305</td>\n",
       "      <td>77</td>\n",
       "      <td>3.992727</td>\n",
       "      <td>0.299519</td>\n",
       "      <td>6</td>\n",
       "      <td>Satisfied</td>\n",
       "      <td>2938</td>\n",
       "    </tr>\n",
       "  </tbody>\n",
       "</table>\n",
       "<p>2938 rows × 7 columns</p>\n",
       "</div>"
      ],
      "text/plain": [
       "           Price  guest_satisfaction_overall  city_distance  metro_distance  \\\n",
       "0     798.536676                          86       2.336880        0.188163   \n",
       "1     797.371610                          97       3.364188        0.246136   \n",
       "2     797.371610                          92       1.476329        0.236090   \n",
       "3     795.274490                          50       2.029013        0.210486   \n",
       "4     789.216143                          82       1.035722        0.189733   \n",
       "...          ...                         ...            ...             ...   \n",
       "2933   97.632585                          90       3.934853        0.255165   \n",
       "2934   97.632585                          80       3.966733        0.279526   \n",
       "2935   97.399571                          90       4.394438        0.139683   \n",
       "2936   96.467518                          92       4.306579        0.020260   \n",
       "2937   92.739305                          77       3.992727        0.299519   \n",
       "\n",
       "      cleanliness_rating guest_satisfaction_overall_bin2  Number  \n",
       "0                     10                  Very_Satisfied       1  \n",
       "1                     10                  Very_Satisfied       2  \n",
       "2                     10                  Very_Satisfied       3  \n",
       "3                      7                         Neutral       4  \n",
       "4                      8                  Very_Satisfied       5  \n",
       "...                  ...                             ...     ...  \n",
       "2933                   8                  Very_Satisfied    2934  \n",
       "2934                   7                       Satisfied    2935  \n",
       "2935                   9                  Very_Satisfied    2936  \n",
       "2936                   8                  Very_Satisfied    2937  \n",
       "2937                   6                       Satisfied    2938  \n",
       "\n",
       "[2938 rows x 7 columns]"
      ]
     },
     "execution_count": 73,
     "metadata": {},
     "output_type": "execute_result"
    }
   ],
   "source": [
    "parisKnn_df"
   ]
  },
  {
   "cell_type": "code",
   "execution_count": 74,
   "id": "cd0b220d",
   "metadata": {},
   "outputs": [],
   "source": [
    "parisCart_df = parisKnn_df.drop(['Number', 'guest_satisfaction_overall'], axis='columns')"
   ]
  },
  {
   "cell_type": "code",
   "execution_count": 75,
   "id": "43b8cf3b",
   "metadata": {},
   "outputs": [
    {
     "name": "stdout",
     "output_type": "stream",
     "text": [
      "(1762, 5) (1176, 5)\n"
     ]
    }
   ],
   "source": [
    "#Split the data into training (60%) and testing (40%)\n",
    "trainDataCart, validDataCart = train_test_split(parisCart_df, \n",
    "test_size=0.4, random_state=0)\n",
    "print(trainDataCart.shape, validDataCart.shape)"
   ]
  },
  {
   "cell_type": "code",
   "execution_count": 76,
   "id": "062150ca",
   "metadata": {},
   "outputs": [
    {
     "data": {
      "text/html": [
       "<div>\n",
       "<style scoped>\n",
       "    .dataframe tbody tr th:only-of-type {\n",
       "        vertical-align: middle;\n",
       "    }\n",
       "\n",
       "    .dataframe tbody tr th {\n",
       "        vertical-align: top;\n",
       "    }\n",
       "\n",
       "    .dataframe thead th {\n",
       "        text-align: right;\n",
       "    }\n",
       "</style>\n",
       "<table border=\"1\" class=\"dataframe\">\n",
       "  <thead>\n",
       "    <tr style=\"text-align: right;\">\n",
       "      <th></th>\n",
       "      <th>Price</th>\n",
       "      <th>city_distance</th>\n",
       "      <th>metro_distance</th>\n",
       "      <th>cleanliness_rating</th>\n",
       "      <th>guest_satisfaction_overall_bin2</th>\n",
       "    </tr>\n",
       "  </thead>\n",
       "  <tbody>\n",
       "    <tr>\n",
       "      <th>250</th>\n",
       "      <td>590.921801</td>\n",
       "      <td>6.366847</td>\n",
       "      <td>0.128918</td>\n",
       "      <td>10</td>\n",
       "      <td>Satisfied</td>\n",
       "    </tr>\n",
       "    <tr>\n",
       "      <th>1779</th>\n",
       "      <td>278.217914</td>\n",
       "      <td>3.790536</td>\n",
       "      <td>0.034303</td>\n",
       "      <td>10</td>\n",
       "      <td>Very_Satisfied</td>\n",
       "    </tr>\n",
       "    <tr>\n",
       "      <th>1982</th>\n",
       "      <td>254.683568</td>\n",
       "      <td>4.594416</td>\n",
       "      <td>0.136495</td>\n",
       "      <td>8</td>\n",
       "      <td>Satisfied</td>\n",
       "    </tr>\n",
       "    <tr>\n",
       "      <th>1817</th>\n",
       "      <td>274.256687</td>\n",
       "      <td>4.386183</td>\n",
       "      <td>0.332402</td>\n",
       "      <td>10</td>\n",
       "      <td>Very_Satisfied</td>\n",
       "    </tr>\n",
       "    <tr>\n",
       "      <th>1045</th>\n",
       "      <td>366.063939</td>\n",
       "      <td>7.576647</td>\n",
       "      <td>0.270140</td>\n",
       "      <td>10</td>\n",
       "      <td>Very_Satisfied</td>\n",
       "    </tr>\n",
       "    <tr>\n",
       "      <th>...</th>\n",
       "      <td>...</td>\n",
       "      <td>...</td>\n",
       "      <td>...</td>\n",
       "      <td>...</td>\n",
       "      <td>...</td>\n",
       "    </tr>\n",
       "    <tr>\n",
       "      <th>763</th>\n",
       "      <td>417.093858</td>\n",
       "      <td>3.416644</td>\n",
       "      <td>0.046494</td>\n",
       "      <td>10</td>\n",
       "      <td>Very_Satisfied</td>\n",
       "    </tr>\n",
       "    <tr>\n",
       "      <th>835</th>\n",
       "      <td>403.113058</td>\n",
       "      <td>2.049926</td>\n",
       "      <td>0.327747</td>\n",
       "      <td>10</td>\n",
       "      <td>Very_Satisfied</td>\n",
       "    </tr>\n",
       "    <tr>\n",
       "      <th>1653</th>\n",
       "      <td>289.402554</td>\n",
       "      <td>1.994461</td>\n",
       "      <td>0.254804</td>\n",
       "      <td>10</td>\n",
       "      <td>Very_Satisfied</td>\n",
       "    </tr>\n",
       "    <tr>\n",
       "      <th>2607</th>\n",
       "      <td>184.546556</td>\n",
       "      <td>2.015575</td>\n",
       "      <td>0.416829</td>\n",
       "      <td>6</td>\n",
       "      <td>Satisfied</td>\n",
       "    </tr>\n",
       "    <tr>\n",
       "      <th>2732</th>\n",
       "      <td>168.701650</td>\n",
       "      <td>3.288623</td>\n",
       "      <td>0.405440</td>\n",
       "      <td>9</td>\n",
       "      <td>Very_Satisfied</td>\n",
       "    </tr>\n",
       "  </tbody>\n",
       "</table>\n",
       "<p>1762 rows × 5 columns</p>\n",
       "</div>"
      ],
      "text/plain": [
       "           Price  city_distance  metro_distance  cleanliness_rating  \\\n",
       "250   590.921801       6.366847        0.128918                  10   \n",
       "1779  278.217914       3.790536        0.034303                  10   \n",
       "1982  254.683568       4.594416        0.136495                   8   \n",
       "1817  274.256687       4.386183        0.332402                  10   \n",
       "1045  366.063939       7.576647        0.270140                  10   \n",
       "...          ...            ...             ...                 ...   \n",
       "763   417.093858       3.416644        0.046494                  10   \n",
       "835   403.113058       2.049926        0.327747                  10   \n",
       "1653  289.402554       1.994461        0.254804                  10   \n",
       "2607  184.546556       2.015575        0.416829                   6   \n",
       "2732  168.701650       3.288623        0.405440                   9   \n",
       "\n",
       "     guest_satisfaction_overall_bin2  \n",
       "250                        Satisfied  \n",
       "1779                  Very_Satisfied  \n",
       "1982                       Satisfied  \n",
       "1817                  Very_Satisfied  \n",
       "1045                  Very_Satisfied  \n",
       "...                              ...  \n",
       "763                   Very_Satisfied  \n",
       "835                   Very_Satisfied  \n",
       "1653                  Very_Satisfied  \n",
       "2607                       Satisfied  \n",
       "2732                  Very_Satisfied  \n",
       "\n",
       "[1762 rows x 5 columns]"
      ]
     },
     "execution_count": 76,
     "metadata": {},
     "output_type": "execute_result"
    }
   ],
   "source": [
    "trainDataCart"
   ]
  },
  {
   "cell_type": "code",
   "execution_count": 77,
   "id": "f9bfe3ad",
   "metadata": {},
   "outputs": [
    {
     "data": {
      "image/png": "[encoded data removed]",
      "text/plain": [
       "<IPython.core.display.Image object>"
      ]
     },
     "execution_count": 77,
     "metadata": {},
     "output_type": "execute_result"
    }
   ],
   "source": [
    "from sklearn.tree import DecisionTreeClassifier, DecisionTreeRegressor\n",
    "from dmba import plotDecisionTree, classificationSummary, regressionSummary\n",
    "classTree = DecisionTreeClassifier(random_state=0, max_depth=3)\n",
    "classTree.fit(trainDataCart.drop(columns=['guest_satisfaction_overall_bin2']), trainDataCart['guest_satisfaction_overall_bin2'])\n",
    "plotDecisionTree(classTree, feature_names=trainDataCart.columns[:4], class_names=classTree.classes_)"
   ]
  },
  {
   "cell_type": "code",
   "execution_count": 78,
   "id": "fbe4dd24",
   "metadata": {},
   "outputs": [],
   "source": [
    "# If our new listing has: Price=530, city distance=1.9KM, metro distance=0.17, cleanliness score=8, this regression\n",
    "# tree with a 3 depth level would classify this new listing as a \"Very Satisfied\" guest. The same value classification \n",
    "# as in KNN method."
   ]
  },
  {
   "cell_type": "code",
   "execution_count": 79,
   "id": "249a3fa0",
   "metadata": {},
   "outputs": [
    {
     "data": {
      "text/plain": [
       "0.9006810442678774"
      ]
     },
     "execution_count": 79,
     "metadata": {},
     "output_type": "execute_result"
    }
   ],
   "source": [
    "# At a regression table of level of 3, the accuracy score is of 75.14% for the training data.\n",
    "# Ref: scikit-learn.org/stable/modules/generated/sklearn.metrics.accuracy_score.html\n",
    "Y_pred = classTree.predict(trainDataCart.drop(columns=['guest_satisfaction_overall_bin2']))\n",
    "from sklearn.metrics import accuracy_score\n",
    "accuracy_score(trainDataCart['guest_satisfaction_overall_bin2'], Y_pred)"
   ]
  },
  {
   "cell_type": "code",
   "execution_count": 80,
   "id": "2da5801f",
   "metadata": {},
   "outputs": [
    {
     "data": {
      "text/plain": [
       "0.9013605442176871"
      ]
     },
     "execution_count": 80,
     "metadata": {},
     "output_type": "execute_result"
    }
   ],
   "source": [
    "# At a regression table of level of 3, the accuracy score is of 76.36% for the validacion data.\n",
    "# Ref: scikit-learn.org/stable/modules/generated/sklearn.metrics.accuracy_score.html\n",
    "Y_pred = classTree.predict(validDataCart.drop(columns=['guest_satisfaction_overall_bin2']))\n",
    "from sklearn.metrics import accuracy_score\n",
    "accuracy_score(validDataCart['guest_satisfaction_overall_bin2'], Y_pred)"
   ]
  },
  {
   "cell_type": "code",
   "execution_count": 81,
   "id": "de284900",
   "metadata": {},
   "outputs": [],
   "source": [
    "# We then continued trying different depth levels for the regression tree. At level 5 we increased accuracy of training data \n",
    "# to 91.1%, but validation data dropped to 89.2%. At level 10 we improved accuracy of training data to 95.3% and decreased \n",
    "# accuracy of validation data to 87.9%.\n",
    "# This trend is caused by the overfitness of the model, where increasing the leves of the regression trees improves the\n",
    "# accuracy of the training data but deteriorates the accuracy of the validation data. Due to this we decided that \n",
    "# level 3 is an optimal level, where both training and validation data obtain a similar level of accuracy above 90%."
   ]
  },
  {
   "cell_type": "markdown",
   "id": "fe264c69",
   "metadata": {},
   "source": [
    "# Naive Bayes Classifier"
   ]
  },
  {
   "cell_type": "code",
   "execution_count": 82,
   "id": "d26848ae",
   "metadata": {},
   "outputs": [
    {
     "data": {
      "text/html": [
       "<div>\n",
       "<style scoped>\n",
       "    .dataframe tbody tr th:only-of-type {\n",
       "        vertical-align: middle;\n",
       "    }\n",
       "\n",
       "    .dataframe tbody tr th {\n",
       "        vertical-align: top;\n",
       "    }\n",
       "\n",
       "    .dataframe thead th {\n",
       "        text-align: right;\n",
       "    }\n",
       "</style>\n",
       "<table border=\"1\" class=\"dataframe\">\n",
       "  <thead>\n",
       "    <tr style=\"text-align: right;\">\n",
       "      <th></th>\n",
       "      <th>Price</th>\n",
       "      <th>room_type</th>\n",
       "      <th>room_shared</th>\n",
       "      <th>room_private</th>\n",
       "      <th>person_capacity</th>\n",
       "      <th>host_is_superhost</th>\n",
       "      <th>multi</th>\n",
       "      <th>biz</th>\n",
       "      <th>cleanliness_rating</th>\n",
       "      <th>guest_satisfaction_overall</th>\n",
       "      <th>...</th>\n",
       "      <th>city_distance</th>\n",
       "      <th>metro_distance</th>\n",
       "      <th>attractivity_index</th>\n",
       "      <th>rest_index</th>\n",
       "      <th>lng</th>\n",
       "      <th>lat</th>\n",
       "      <th>attractivity_index_standard</th>\n",
       "      <th>Price_bin</th>\n",
       "      <th>city_distance_bin</th>\n",
       "      <th>attractivity_index_standard_bin</th>\n",
       "    </tr>\n",
       "  </thead>\n",
       "  <tbody>\n",
       "    <tr>\n",
       "      <th>0</th>\n",
       "      <td>296.16</td>\n",
       "      <td>Private room</td>\n",
       "      <td>False</td>\n",
       "      <td>True</td>\n",
       "      <td>2</td>\n",
       "      <td>True</td>\n",
       "      <td>0</td>\n",
       "      <td>0</td>\n",
       "      <td>10</td>\n",
       "      <td>97</td>\n",
       "      <td>...</td>\n",
       "      <td>0.7</td>\n",
       "      <td>0.19</td>\n",
       "      <td>518.48</td>\n",
       "      <td>1218.66</td>\n",
       "      <td>2.35385</td>\n",
       "      <td>48.86282</td>\n",
       "      <td>46.36</td>\n",
       "      <td>4</td>\n",
       "      <td>1</td>\n",
       "      <td>4.0</td>\n",
       "    </tr>\n",
       "    <tr>\n",
       "      <th>1</th>\n",
       "      <td>288.24</td>\n",
       "      <td>Private room</td>\n",
       "      <td>False</td>\n",
       "      <td>True</td>\n",
       "      <td>2</td>\n",
       "      <td>True</td>\n",
       "      <td>0</td>\n",
       "      <td>0</td>\n",
       "      <td>10</td>\n",
       "      <td>97</td>\n",
       "      <td>...</td>\n",
       "      <td>2.1</td>\n",
       "      <td>0.11</td>\n",
       "      <td>873.22</td>\n",
       "      <td>1000.54</td>\n",
       "      <td>2.32436</td>\n",
       "      <td>48.85902</td>\n",
       "      <td>87.25</td>\n",
       "      <td>3</td>\n",
       "      <td>2</td>\n",
       "      <td>8.0</td>\n",
       "    </tr>\n",
       "  </tbody>\n",
       "</table>\n",
       "<p>2 rows × 21 columns</p>\n",
       "</div>"
      ],
      "text/plain": [
       "    Price     room_type room_shared room_private  person_capacity  \\\n",
       "0  296.16  Private room       False         True                2   \n",
       "1  288.24  Private room       False         True                2   \n",
       "\n",
       "  host_is_superhost  multi  biz  cleanliness_rating  \\\n",
       "0              True      0    0                  10   \n",
       "1              True      0    0                  10   \n",
       "\n",
       "   guest_satisfaction_overall  ...  city_distance  metro_distance  \\\n",
       "0                          97  ...            0.7            0.19   \n",
       "1                          97  ...            2.1            0.11   \n",
       "\n",
       "   attractivity_index  rest_index      lng       lat  \\\n",
       "0              518.48     1218.66  2.35385  48.86282   \n",
       "1              873.22     1000.54  2.32436  48.85902   \n",
       "\n",
       "   attractivity_index_standard  Price_bin  city_distance_bin  \\\n",
       "0                        46.36          4                  1   \n",
       "1                        87.25          3                  2   \n",
       "\n",
       "   attractivity_index_standard_bin  \n",
       "0                              4.0  \n",
       "1                              8.0  \n",
       "\n",
       "[2 rows x 21 columns]"
      ]
     },
     "execution_count": 82,
     "metadata": {},
     "output_type": "execute_result"
    }
   ],
   "source": [
    "paris_df.head(2)"
   ]
  },
  {
   "cell_type": "code",
   "execution_count": 145,
   "id": "f62c5823",
   "metadata": {},
   "outputs": [
    {
     "data": {
      "text/plain": [
       "(2931, 23)"
      ]
     },
     "execution_count": 145,
     "metadata": {},
     "output_type": "execute_result"
    }
   ],
   "source": [
    "paris_df.shape"
   ]
  },
  {
   "cell_type": "code",
   "execution_count": 146,
   "id": "b1decc13",
   "metadata": {},
   "outputs": [],
   "source": [
    "# Deleting the columns which is of no importance to our analysis\n",
    "# paris_df = paris_df.drop('Unnamed: 0',axis = 1)\n",
    "# paris_df.head(3)"
   ]
  },
  {
   "cell_type": "code",
   "execution_count": 147,
   "id": "b18ff6f8",
   "metadata": {},
   "outputs": [],
   "source": [
    "paris_df.bedrooms = paris_df.bedrooms.astype('category')\n",
    "paris_df.cleanliness_rating = paris_df.cleanliness_rating.astype('category')\n",
    "paris_df.person_capacity = paris_df.person_capacity.astype('category')\n",
    "paris_df.multi = paris_df.multi.astype('category')\n",
    "paris_df.biz = paris_df.biz.astype('category')\n",
    "paris_df.room_shared = paris_df.room_shared.astype('category')\n",
    "paris_df.room_type = paris_df.room_type.astype('category')"
   ]
  },
  {
   "cell_type": "code",
   "execution_count": 148,
   "id": "fecd2c30",
   "metadata": {},
   "outputs": [],
   "source": [
    "paris_df['guest_satisfaction_overall_bin2']=pd.cut(paris_df.guest_satisfaction_overall,bins=[0,25,40,65,80,100],labels=['Very_Unsatisfied','Unsatisfied','Neutral','Satisfied','Very_Satisfied'])"
   ]
  },
  {
   "cell_type": "code",
   "execution_count": 149,
   "id": "b6f06cb4",
   "metadata": {},
   "outputs": [],
   "source": [
    "paris_df.Price_bin=pd.cut(paris_df.Price,bins=[0,130,200,400,600,1000],labels=['Cheap','Mid-range','Expensive','Very_Expensive','Luxurious'])\n",
    "#paris_df.Price_bin = paris_df.Price_bin.astype('category')\n",
    "paris_df['metro_distance_bin']=pd.cut(paris_df.metro_distance,bins=[0,1,2,3,100],labels=['Very_Close','Close','Far','Very Far'])"
   ]
  },
  {
   "cell_type": "code",
   "execution_count": 150,
   "id": "f9fc964a",
   "metadata": {},
   "outputs": [
    {
     "data": {
      "text/html": [
       "<div>\n",
       "<style scoped>\n",
       "    .dataframe tbody tr th:only-of-type {\n",
       "        vertical-align: middle;\n",
       "    }\n",
       "\n",
       "    .dataframe tbody tr th {\n",
       "        vertical-align: top;\n",
       "    }\n",
       "\n",
       "    .dataframe thead th {\n",
       "        text-align: right;\n",
       "    }\n",
       "</style>\n",
       "<table border=\"1\" class=\"dataframe\">\n",
       "  <thead>\n",
       "    <tr style=\"text-align: right;\">\n",
       "      <th></th>\n",
       "      <th>Price</th>\n",
       "      <th>room_type</th>\n",
       "      <th>room_shared</th>\n",
       "      <th>room_private</th>\n",
       "      <th>person_capacity</th>\n",
       "      <th>host_is_superhost</th>\n",
       "      <th>multi</th>\n",
       "      <th>biz</th>\n",
       "      <th>cleanliness_rating</th>\n",
       "      <th>guest_satisfaction_overall</th>\n",
       "      <th>...</th>\n",
       "      <th>attractivity_index</th>\n",
       "      <th>rest_index</th>\n",
       "      <th>lng</th>\n",
       "      <th>lat</th>\n",
       "      <th>attractivity_index_standard</th>\n",
       "      <th>Price_bin</th>\n",
       "      <th>city_distance_bin</th>\n",
       "      <th>attractivity_index_standard_bin</th>\n",
       "      <th>guest_satisfaction_overall_bin2</th>\n",
       "      <th>metro_distance_bin</th>\n",
       "    </tr>\n",
       "  </thead>\n",
       "  <tbody>\n",
       "    <tr>\n",
       "      <th>0</th>\n",
       "      <td>296.16</td>\n",
       "      <td>Private room</td>\n",
       "      <td>False</td>\n",
       "      <td>True</td>\n",
       "      <td>2</td>\n",
       "      <td>True</td>\n",
       "      <td>0</td>\n",
       "      <td>0</td>\n",
       "      <td>10</td>\n",
       "      <td>97</td>\n",
       "      <td>...</td>\n",
       "      <td>518.48</td>\n",
       "      <td>1218.66</td>\n",
       "      <td>2.35385</td>\n",
       "      <td>48.86282</td>\n",
       "      <td>46.36</td>\n",
       "      <td>Expensive</td>\n",
       "      <td>1</td>\n",
       "      <td>4.0</td>\n",
       "      <td>Very_Satisfied</td>\n",
       "      <td>Very_Close</td>\n",
       "    </tr>\n",
       "    <tr>\n",
       "      <th>1</th>\n",
       "      <td>288.24</td>\n",
       "      <td>Private room</td>\n",
       "      <td>False</td>\n",
       "      <td>True</td>\n",
       "      <td>2</td>\n",
       "      <td>True</td>\n",
       "      <td>0</td>\n",
       "      <td>0</td>\n",
       "      <td>10</td>\n",
       "      <td>97</td>\n",
       "      <td>...</td>\n",
       "      <td>873.22</td>\n",
       "      <td>1000.54</td>\n",
       "      <td>2.32436</td>\n",
       "      <td>48.85902</td>\n",
       "      <td>87.25</td>\n",
       "      <td>Expensive</td>\n",
       "      <td>2</td>\n",
       "      <td>8.0</td>\n",
       "      <td>Very_Satisfied</td>\n",
       "      <td>Very_Close</td>\n",
       "    </tr>\n",
       "  </tbody>\n",
       "</table>\n",
       "<p>2 rows × 23 columns</p>\n",
       "</div>"
      ],
      "text/plain": [
       "    Price     room_type room_shared room_private person_capacity  \\\n",
       "0  296.16  Private room       False         True               2   \n",
       "1  288.24  Private room       False         True               2   \n",
       "\n",
       "  host_is_superhost multi biz cleanliness_rating  guest_satisfaction_overall  \\\n",
       "0              True     0   0                 10                          97   \n",
       "1              True     0   0                 10                          97   \n",
       "\n",
       "   ... attractivity_index  rest_index      lng       lat  \\\n",
       "0  ...             518.48     1218.66  2.35385  48.86282   \n",
       "1  ...             873.22     1000.54  2.32436  48.85902   \n",
       "\n",
       "   attractivity_index_standard  Price_bin  city_distance_bin  \\\n",
       "0                        46.36  Expensive                  1   \n",
       "1                        87.25  Expensive                  2   \n",
       "\n",
       "   attractivity_index_standard_bin guest_satisfaction_overall_bin2  \\\n",
       "0                              4.0                  Very_Satisfied   \n",
       "1                              8.0                  Very_Satisfied   \n",
       "\n",
       "   metro_distance_bin  \n",
       "0          Very_Close  \n",
       "1          Very_Close  \n",
       "\n",
       "[2 rows x 23 columns]"
      ]
     },
     "execution_count": 150,
     "metadata": {},
     "output_type": "execute_result"
    }
   ],
   "source": [
    "paris_df.head(2)"
   ]
  },
  {
   "cell_type": "code",
   "execution_count": 151,
   "id": "20cc6cdd",
   "metadata": {},
   "outputs": [],
   "source": [
    "predictors = ['Price_bin', 'city_distance_bin', 'cleanliness_rating', 'metro_distance_bin']\n",
    "outcome = 'guest_satisfaction_overall_bin2'"
   ]
  },
  {
   "cell_type": "code",
   "execution_count": 152,
   "id": "cc42353b",
   "metadata": {},
   "outputs": [],
   "source": [
    "X = pd.get_dummies(paris_df[predictors])\n",
    "y = paris_df[outcome]\n",
    "classes = ['Very_Unsatisfied','Unsatisfied','Neutral','Satisfied','Very_Satisfied']"
   ]
  },
  {
   "cell_type": "code",
   "execution_count": 153,
   "id": "08b746cb",
   "metadata": {},
   "outputs": [],
   "source": [
    "X_train, X_valid, y_train, y_valid = train_test_split(X, y, test_size=0.40, random_state=1)"
   ]
  },
  {
   "cell_type": "code",
   "execution_count": 154,
   "id": "e1028878",
   "metadata": {},
   "outputs": [
    {
     "data": {
      "text/plain": [
       "Index(['city_distance_bin', 'Price_bin_Cheap', 'Price_bin_Mid-range',\n",
       "       'Price_bin_Expensive', 'Price_bin_Very_Expensive',\n",
       "       'Price_bin_Luxurious', 'cleanliness_rating_2', 'cleanliness_rating_4',\n",
       "       'cleanliness_rating_5', 'cleanliness_rating_6', 'cleanliness_rating_7',\n",
       "       'cleanliness_rating_8', 'cleanliness_rating_9', 'cleanliness_rating_10',\n",
       "       'metro_distance_bin_Very_Close', 'metro_distance_bin_Close',\n",
       "       'metro_distance_bin_Far', 'metro_distance_bin_Very Far'],\n",
       "      dtype='object')"
      ]
     },
     "execution_count": 154,
     "metadata": {},
     "output_type": "execute_result"
    }
   ],
   "source": [
    "X_train.columns"
   ]
  },
  {
   "cell_type": "code",
   "execution_count": 155,
   "id": "1e9576f2",
   "metadata": {},
   "outputs": [
    {
     "data": {
      "text/plain": [
       "MultinomialNB(alpha=1)"
      ]
     },
     "execution_count": 155,
     "metadata": {},
     "output_type": "execute_result"
    }
   ],
   "source": [
    "from sklearn.naive_bayes import MultinomialNB\n",
    "paris_nb = MultinomialNB(alpha=1)\n",
    "paris_nb.fit(X_train, y_train)"
   ]
  },
  {
   "cell_type": "code",
   "execution_count": 156,
   "id": "2170b634",
   "metadata": {},
   "outputs": [],
   "source": [
    "predProb_train = paris_nb.predict_proba(X_train)\n",
    "predProb_valid = paris_nb.predict_proba(X_valid)"
   ]
  },
  {
   "cell_type": "code",
   "execution_count": 157,
   "id": "9f114e0c",
   "metadata": {},
   "outputs": [],
   "source": [
    "y_valid_pred = paris_nb.predict(X_valid)\n",
    "y_train_pred = paris_nb.predict(X_train)"
   ]
  },
  {
   "cell_type": "code",
   "execution_count": 158,
   "id": "6989dd58",
   "metadata": {},
   "outputs": [],
   "source": [
    "df = pd.concat([pd.DataFrame({'actual': y_valid, 'predicted': y_valid_pred})], axis=1)"
   ]
  },
  {
   "cell_type": "code",
   "execution_count": 159,
   "id": "4c71ed2c",
   "metadata": {},
   "outputs": [],
   "source": [
    "mask = ((X_valid.metro_distance_bin_Very_Close == 1)&(X_valid.Price_bin_Very_Expensive == 1) & (X_valid.city_distance_bin == 1) & (X_valid.cleanliness_rating_8 ==1))"
   ]
  },
  {
   "cell_type": "code",
   "execution_count": 160,
   "id": "ed6e9abb",
   "metadata": {},
   "outputs": [
    {
     "name": "stdout",
     "output_type": "stream",
     "text": [
      "             actual       predicted\n",
      "55   Very_Satisfied  Very_Satisfied\n",
      "249       Satisfied  Very_Satisfied\n",
      "590  Very_Satisfied  Very_Satisfied\n",
      "662  Very_Satisfied  Very_Satisfied\n",
      "623  Very_Satisfied  Very_Satisfied\n",
      "895       Satisfied  Very_Satisfied\n",
      "717  Very_Satisfied  Very_Satisfied\n",
      "471  Very_Satisfied  Very_Satisfied\n",
      "257  Very_Satisfied  Very_Satisfied\n"
     ]
    }
   ],
   "source": [
    "print(df[mask])"
   ]
  },
  {
   "cell_type": "code",
   "execution_count": 162,
   "id": "c600a4ad",
   "metadata": {},
   "outputs": [
    {
     "name": "stdout",
     "output_type": "stream",
     "text": [
      "Accuracy: 0.9002557544757033\n"
     ]
    }
   ],
   "source": [
    "# Ref: https://www.datacamp.com/tutorial/naive-bayes-scikit-learn\n",
    "from sklearn.metrics import (\n",
    "    accuracy_score,\n",
    "    confusion_matrix,\n",
    "    ConfusionMatrixDisplay,\n",
    ")\n",
    "\n",
    "#y_pred = model.predict(X_test)\n",
    "accuracy = accuracy_score(y_valid_pred, y_valid)\n",
    "\n",
    "\n",
    "print(\"Accuracy:\", accuracy)\n"
   ]
  },
  {
   "cell_type": "code",
   "execution_count": 104,
   "id": "3f5ae1b6",
   "metadata": {},
   "outputs": [],
   "source": [
    "# A new listing with Price of 530, distance from the city of 1.9 KM, a distance to the metro of 0.17, and \n",
    "# cleanliness score of 8 would have an expected classifier of \"Very Satisfied\". This result is the same as the \n",
    "# the results in the KNN and CART models."
   ]
  },
  {
   "cell_type": "markdown",
   "id": "dd070d85",
   "metadata": {},
   "source": [
    "# Logistic Regression"
   ]
  },
  {
   "cell_type": "code",
   "execution_count": 130,
   "id": "a447dc96",
   "metadata": {},
   "outputs": [],
   "source": [
    "from sklearn.linear_model import LogisticRegression, LogisticRegressionCV\n",
    "from dmba.metric import AIC_score"
   ]
  },
  {
   "cell_type": "code",
   "execution_count": 131,
   "id": "58498dc4",
   "metadata": {},
   "outputs": [
    {
     "data": {
      "text/html": [
       "<div>\n",
       "<style scoped>\n",
       "    .dataframe tbody tr th:only-of-type {\n",
       "        vertical-align: middle;\n",
       "    }\n",
       "\n",
       "    .dataframe tbody tr th {\n",
       "        vertical-align: top;\n",
       "    }\n",
       "\n",
       "    .dataframe thead th {\n",
       "        text-align: right;\n",
       "    }\n",
       "</style>\n",
       "<table border=\"1\" class=\"dataframe\">\n",
       "  <thead>\n",
       "    <tr style=\"text-align: right;\">\n",
       "      <th></th>\n",
       "      <th>Price</th>\n",
       "      <th>room_type</th>\n",
       "      <th>room_shared</th>\n",
       "      <th>room_private</th>\n",
       "      <th>person_capacity</th>\n",
       "      <th>host_is_superhost</th>\n",
       "      <th>multi</th>\n",
       "      <th>biz</th>\n",
       "      <th>cleanliness_rating</th>\n",
       "      <th>guest_satisfaction_overall</th>\n",
       "      <th>...</th>\n",
       "      <th>attractivity_index</th>\n",
       "      <th>rest_index</th>\n",
       "      <th>lng</th>\n",
       "      <th>lat</th>\n",
       "      <th>attractivity_index_standard</th>\n",
       "      <th>Price_bin</th>\n",
       "      <th>city_distance_bin</th>\n",
       "      <th>attractivity_index_standard_bin</th>\n",
       "      <th>guest_satisfaction_overall_bin2</th>\n",
       "      <th>metro_distance_bin</th>\n",
       "    </tr>\n",
       "  </thead>\n",
       "  <tbody>\n",
       "    <tr>\n",
       "      <th>0</th>\n",
       "      <td>296.16</td>\n",
       "      <td>Private room</td>\n",
       "      <td>False</td>\n",
       "      <td>True</td>\n",
       "      <td>2</td>\n",
       "      <td>True</td>\n",
       "      <td>0</td>\n",
       "      <td>0</td>\n",
       "      <td>10</td>\n",
       "      <td>97</td>\n",
       "      <td>...</td>\n",
       "      <td>518.48</td>\n",
       "      <td>1218.66</td>\n",
       "      <td>2.35385</td>\n",
       "      <td>48.86282</td>\n",
       "      <td>46.36</td>\n",
       "      <td>Expensive</td>\n",
       "      <td>1</td>\n",
       "      <td>4.0</td>\n",
       "      <td>Very_Satisfied</td>\n",
       "      <td>Very_Close</td>\n",
       "    </tr>\n",
       "    <tr>\n",
       "      <th>1</th>\n",
       "      <td>288.24</td>\n",
       "      <td>Private room</td>\n",
       "      <td>False</td>\n",
       "      <td>True</td>\n",
       "      <td>2</td>\n",
       "      <td>True</td>\n",
       "      <td>0</td>\n",
       "      <td>0</td>\n",
       "      <td>10</td>\n",
       "      <td>97</td>\n",
       "      <td>...</td>\n",
       "      <td>873.22</td>\n",
       "      <td>1000.54</td>\n",
       "      <td>2.32436</td>\n",
       "      <td>48.85902</td>\n",
       "      <td>87.25</td>\n",
       "      <td>Expensive</td>\n",
       "      <td>2</td>\n",
       "      <td>8.0</td>\n",
       "      <td>Very_Satisfied</td>\n",
       "      <td>Very_Close</td>\n",
       "    </tr>\n",
       "    <tr>\n",
       "      <th>2</th>\n",
       "      <td>211.34</td>\n",
       "      <td>Private room</td>\n",
       "      <td>False</td>\n",
       "      <td>True</td>\n",
       "      <td>2</td>\n",
       "      <td>False</td>\n",
       "      <td>0</td>\n",
       "      <td>0</td>\n",
       "      <td>10</td>\n",
       "      <td>94</td>\n",
       "      <td>...</td>\n",
       "      <td>444.56</td>\n",
       "      <td>902.85</td>\n",
       "      <td>2.31714</td>\n",
       "      <td>48.87475</td>\n",
       "      <td>37.84</td>\n",
       "      <td>Expensive</td>\n",
       "      <td>3</td>\n",
       "      <td>3.0</td>\n",
       "      <td>Very_Satisfied</td>\n",
       "      <td>Very_Close</td>\n",
       "    </tr>\n",
       "  </tbody>\n",
       "</table>\n",
       "<p>3 rows × 23 columns</p>\n",
       "</div>"
      ],
      "text/plain": [
       "    Price     room_type room_shared room_private person_capacity  \\\n",
       "0  296.16  Private room       False         True               2   \n",
       "1  288.24  Private room       False         True               2   \n",
       "2  211.34  Private room       False         True               2   \n",
       "\n",
       "  host_is_superhost multi biz cleanliness_rating  guest_satisfaction_overall  \\\n",
       "0              True     0   0                 10                          97   \n",
       "1              True     0   0                 10                          97   \n",
       "2             False     0   0                 10                          94   \n",
       "\n",
       "   ... attractivity_index  rest_index      lng       lat  \\\n",
       "0  ...             518.48     1218.66  2.35385  48.86282   \n",
       "1  ...             873.22     1000.54  2.32436  48.85902   \n",
       "2  ...             444.56      902.85  2.31714  48.87475   \n",
       "\n",
       "   attractivity_index_standard  Price_bin  city_distance_bin  \\\n",
       "0                        46.36  Expensive                  1   \n",
       "1                        87.25  Expensive                  2   \n",
       "2                        37.84  Expensive                  3   \n",
       "\n",
       "   attractivity_index_standard_bin guest_satisfaction_overall_bin2  \\\n",
       "0                              4.0                  Very_Satisfied   \n",
       "1                              8.0                  Very_Satisfied   \n",
       "2                              3.0                  Very_Satisfied   \n",
       "\n",
       "   metro_distance_bin  \n",
       "0          Very_Close  \n",
       "1          Very_Close  \n",
       "2          Very_Close  \n",
       "\n",
       "[3 rows x 23 columns]"
      ]
     },
     "execution_count": 131,
     "metadata": {},
     "output_type": "execute_result"
    }
   ],
   "source": [
    "paris_df.head(3)"
   ]
  },
  {
   "cell_type": "code",
   "execution_count": 132,
   "id": "5bb99469",
   "metadata": {},
   "outputs": [],
   "source": [
    "parisLog_df = paris_df.drop(['room_type', 'room_shared','attractivity_index', 'attractivity_index_standard', 'attractivity_index_standard_bin', 'bedrooms', 'room_private', 'person_capacity','host_is_superhost', 'multi', 'biz', 'rest_index', 'lng', 'lat', 'guest_satisfaction_overall', 'metro_distance_bin', 'city_distance_bin', 'Price_bin' ], axis='columns')"
   ]
  },
  {
   "cell_type": "code",
   "execution_count": 133,
   "id": "ec6abe32",
   "metadata": {},
   "outputs": [
    {
     "data": {
      "text/html": [
       "<div>\n",
       "<style scoped>\n",
       "    .dataframe tbody tr th:only-of-type {\n",
       "        vertical-align: middle;\n",
       "    }\n",
       "\n",
       "    .dataframe tbody tr th {\n",
       "        vertical-align: top;\n",
       "    }\n",
       "\n",
       "    .dataframe thead th {\n",
       "        text-align: right;\n",
       "    }\n",
       "</style>\n",
       "<table border=\"1\" class=\"dataframe\">\n",
       "  <thead>\n",
       "    <tr style=\"text-align: right;\">\n",
       "      <th></th>\n",
       "      <th>Price</th>\n",
       "      <th>cleanliness_rating</th>\n",
       "      <th>city_distance</th>\n",
       "      <th>metro_distance</th>\n",
       "      <th>guest_satisfaction_overall_bin2</th>\n",
       "    </tr>\n",
       "  </thead>\n",
       "  <tbody>\n",
       "    <tr>\n",
       "      <th>0</th>\n",
       "      <td>296.16</td>\n",
       "      <td>10</td>\n",
       "      <td>0.7</td>\n",
       "      <td>0.19</td>\n",
       "      <td>Very_Satisfied</td>\n",
       "    </tr>\n",
       "    <tr>\n",
       "      <th>1</th>\n",
       "      <td>288.24</td>\n",
       "      <td>10</td>\n",
       "      <td>2.1</td>\n",
       "      <td>0.11</td>\n",
       "      <td>Very_Satisfied</td>\n",
       "    </tr>\n",
       "  </tbody>\n",
       "</table>\n",
       "</div>"
      ],
      "text/plain": [
       "    Price cleanliness_rating  city_distance  metro_distance  \\\n",
       "0  296.16                 10            0.7            0.19   \n",
       "1  288.24                 10            2.1            0.11   \n",
       "\n",
       "  guest_satisfaction_overall_bin2  \n",
       "0                  Very_Satisfied  \n",
       "1                  Very_Satisfied  "
      ]
     },
     "execution_count": 133,
     "metadata": {},
     "output_type": "execute_result"
    }
   ],
   "source": [
    "parisLog_df.head(2)"
   ]
  },
  {
   "cell_type": "code",
   "execution_count": 134,
   "id": "01a1ca6f",
   "metadata": {},
   "outputs": [],
   "source": [
    "parisLog_df['guest_satisfaction_overall_bin2'] = parisLog_df.guest_satisfaction_overall_bin2.map({'Very_Unsatisfied':0,'Unsatisfied':1,'Neutral':2,'Satisfied':3,'Very_Satisfied':4})"
   ]
  },
  {
   "cell_type": "code",
   "execution_count": 135,
   "id": "bcfc65f7",
   "metadata": {},
   "outputs": [],
   "source": [
    "X = parisLog_df.drop(columns=['guest_satisfaction_overall_bin2'])\n",
    "y = parisLog_df['guest_satisfaction_overall_bin2']\n",
    "train_X, valid_X, train_y, valid_y = train_test_split(X, y, test_size=0.4, random_state=1)"
   ]
  },
  {
   "cell_type": "code",
   "execution_count": 136,
   "id": "de274424",
   "metadata": {},
   "outputs": [
    {
     "name": "stdout",
     "output_type": "stream",
     "text": [
      "intercept  6.238492893650965\n",
      "----\n",
      "         Price  cleanliness_rating  city_distance  metro_distance\n",
      "coeff  0.00089           -1.319362       0.037547      -13.832957\n",
      "----\n",
      "AIC 1109.1575638399177\n"
     ]
    }
   ],
   "source": [
    "logit_reg = LogisticRegression(penalty=\"l2\", C=1e42, solver='liblinear')\n",
    "logit_reg.fit(train_X, train_y)\n",
    "print('intercept ', logit_reg.intercept_[0])\n",
    "print('----')\n",
    "print(pd.DataFrame({'coeff': logit_reg.coef_[0]}, index=X.columns).transpose())\n",
    "print('----')\n",
    "print('AIC', AIC_score(valid_y, logit_reg.predict(valid_X), df = len(train_X.columns) + 1))"
   ]
  },
  {
   "cell_type": "code",
   "execution_count": 137,
   "id": "7f5d7865",
   "metadata": {},
   "outputs": [],
   "source": [
    "logit_reg_pred = logit_reg.predict(valid_X)\n",
    "logit_reg_proba = logit_reg.predict_proba(valid_X)\n",
    "\n",
    "logit_result = pd.DataFrame({'actual': valid_y, \n",
    "'p(0)': [p[0] for p in logit_reg_proba],\n",
    "'p(1)': [p[1] for p in logit_reg_proba],\n",
    "'predicted': logit_reg_pred })"
   ]
  },
  {
   "cell_type": "code",
   "execution_count": 138,
   "id": "8f844b43",
   "metadata": {},
   "outputs": [],
   "source": [
    "# valid_X.to_excel('C:/Users/Esteban/Desktop/Esteban/output.xlsx', index=True)"
   ]
  },
  {
   "cell_type": "code",
   "execution_count": 139,
   "id": "ab7698d7",
   "metadata": {},
   "outputs": [],
   "source": [
    "# Looking and valid_X dataset we can find that index 895 has the closest values to our new listing.\n",
    "# New listing values: Price: 530, Distance from city: 1.9, Distance from metro: 0.17, Cleanliness: 8\n",
    "# Most similar data point in valid_X dataset: Price: 502, Distance from city: 1.19, Distance from metro: 0.16, Cleanliness: 8                    "
   ]
  },
  {
   "cell_type": "code",
   "execution_count": 140,
   "id": "81a12347",
   "metadata": {},
   "outputs": [
    {
     "data": {
      "text/html": [
       "<div>\n",
       "<style scoped>\n",
       "    .dataframe tbody tr th:only-of-type {\n",
       "        vertical-align: middle;\n",
       "    }\n",
       "\n",
       "    .dataframe tbody tr th {\n",
       "        vertical-align: top;\n",
       "    }\n",
       "\n",
       "    .dataframe thead th {\n",
       "        text-align: right;\n",
       "    }\n",
       "</style>\n",
       "<table border=\"1\" class=\"dataframe\">\n",
       "  <thead>\n",
       "    <tr style=\"text-align: right;\">\n",
       "      <th></th>\n",
       "      <th>Price</th>\n",
       "      <th>cleanliness_rating</th>\n",
       "      <th>city_distance</th>\n",
       "      <th>metro_distance</th>\n",
       "    </tr>\n",
       "  </thead>\n",
       "  <tbody>\n",
       "    <tr>\n",
       "      <th>2328</th>\n",
       "      <td>463.70</td>\n",
       "      <td>10</td>\n",
       "      <td>4.42</td>\n",
       "      <td>0.30</td>\n",
       "    </tr>\n",
       "    <tr>\n",
       "      <th>1711</th>\n",
       "      <td>318.53</td>\n",
       "      <td>10</td>\n",
       "      <td>1.94</td>\n",
       "      <td>0.07</td>\n",
       "    </tr>\n",
       "  </tbody>\n",
       "</table>\n",
       "</div>"
      ],
      "text/plain": [
       "       Price cleanliness_rating  city_distance  metro_distance\n",
       "2328  463.70                 10           4.42            0.30\n",
       "1711  318.53                 10           1.94            0.07"
      ]
     },
     "execution_count": 140,
     "metadata": {},
     "output_type": "execute_result"
    }
   ],
   "source": [
    "train_X.head(2)"
   ]
  },
  {
   "cell_type": "code",
   "execution_count": 141,
   "id": "98b617a5",
   "metadata": {},
   "outputs": [
    {
     "name": "stdout",
     "output_type": "stream",
     "text": [
      "     actual      p(0)      p(1)  predicted\n",
      "895       3  0.002488  0.007622          4\n",
      "1406      4  0.000207  0.000283          4\n",
      "702       4  0.000277  0.000658          4\n"
     ]
    }
   ],
   "source": [
    "# display three different cases, the first one is the closest records to our actual new listing\n",
    "interestingCases = [895, 1406, 702]\n",
    "print(logit_result.loc[interestingCases])\n",
    "# According to Logistic Regression, index 895 which is closest to our data point will also classify our \n",
    "# new listing as \"Very_Satisfied\", just as the rest of the algorithms."
   ]
  },
  {
   "cell_type": "code",
   "execution_count": 142,
   "id": "0352ed5d",
   "metadata": {},
   "outputs": [
    {
     "name": "stdout",
     "output_type": "stream",
     "text": [
      "Confusion Matrix (Accuracy 0.8953)\n",
      "\n",
      "       Prediction\n",
      "Actual    0    1    2    3    4\n",
      "     0    0    0    0    4    1\n",
      "     1    0    0    0    1    2\n",
      "     2    0    0    0    7   19\n",
      "     3    0    0    0   13  143\n",
      "     4    0    0    0    7 1561\n"
     ]
    }
   ],
   "source": [
    "# training confusion matrix for training set\n",
    "classificationSummary(train_y, logit_reg.predict(train_X))"
   ]
  },
  {
   "cell_type": "code",
   "execution_count": 143,
   "id": "55869b7d",
   "metadata": {},
   "outputs": [
    {
     "name": "stdout",
     "output_type": "stream",
     "text": [
      "Confusion Matrix (Accuracy 0.9003)\n",
      "\n",
      "       Prediction\n",
      "Actual    0    1    2    3    4\n",
      "     0    0    0    0    2    0\n",
      "     1    0    0    0    5    0\n",
      "     2    0    0    0    5    9\n",
      "     3    0    0    0    9   92\n",
      "     4    0    0    0    4 1047\n"
     ]
    }
   ],
   "source": [
    "# validation confusion matrix for validation set\n",
    "classificationSummary(valid_y, logit_reg.predict(valid_X))"
   ]
  },
  {
   "cell_type": "code",
   "execution_count": null,
   "id": "a0098419",
   "metadata": {},
   "outputs": [],
   "source": []
  }
 ],
 "metadata": {
  "kernelspec": {
   "display_name": "Python 3 (ipykernel)",
   "language": "python",
   "name": "python3"
  },
  "language_info": {
   "codemirror_mode": {
    "name": "ipython",
    "version": 3
   },
   "file_extension": ".py",
   "mimetype": "text/x-python",
   "name": "python",
   "nbconvert_exporter": "python",
   "pygments_lexer": "ipython3",
   "version": "3.9.13"
  }
 },
 "nbformat": 4,
 "nbformat_minor": 5
}
